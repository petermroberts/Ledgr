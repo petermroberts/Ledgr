{
 "cells": [
  {
   "cell_type": "code",
   "execution_count": 36,
   "id": "initial_id",
   "metadata": {
    "collapsed": true,
    "ExecuteTime": {
     "end_time": "2024-03-12T00:39:50.019Z",
     "start_time": "2024-03-12T00:39:50.016Z"
    }
   },
   "outputs": [],
   "source": [
    "import pandas as pd\n",
    "import numpy as np"
   ]
  },
  {
   "cell_type": "code",
   "outputs": [],
   "source": [
    "january = pd.read_csv('../Data/csv_data/monthly/january_2023.csv')"
   ],
   "metadata": {
    "collapsed": false,
    "ExecuteTime": {
     "end_time": "2024-03-12T00:39:50.689904Z",
     "start_time": "2024-03-12T00:39:50.684904Z"
    }
   },
   "id": "69c02eee01a5fd8f",
   "execution_count": 37
  },
  {
   "cell_type": "code",
   "outputs": [
    {
     "data": {
      "text/plain": "          Date  Head Category    Category Note  Amount  Account\n0   2023-01-01  Food & Drinks      Drinks  NaN  -61.87        2\n1   2023-01-01  Food & Drinks    Take-out  NaN  -59.83        2\n2   2023-01-01  Food & Drinks  Restaurant  NaN  -19.68        2\n3   2023-01-01      Lifestyle    Pharmacy  NaN  -17.24        2\n4   2023-01-02  Food & Drinks       Candy  NaN  -17.25        2\n..         ...            ...         ...  ...     ...      ...\n81  2023-01-30  Food & Drinks      Coffee  NaN   -4.92        2\n82  2023-01-30  Food & Drinks      Coffee  NaN   -4.90        2\n83  2023-01-31  Food & Drinks    Dine-out  NaN  -63.94        2\n84  2023-01-31  Food & Drinks      Coffee  NaN  -11.00        2\n85  2023-01-31  Food & Drinks      Coffee  NaN   -5.74        2\n\n[86 rows x 6 columns]",
      "text/html": "<div>\n<style scoped>\n    .dataframe tbody tr th:only-of-type {\n        vertical-align: middle;\n    }\n\n    .dataframe tbody tr th {\n        vertical-align: top;\n    }\n\n    .dataframe thead th {\n        text-align: right;\n    }\n</style>\n<table border=\"1\" class=\"dataframe\">\n  <thead>\n    <tr style=\"text-align: right;\">\n      <th></th>\n      <th>Date</th>\n      <th>Head Category</th>\n      <th>Category</th>\n      <th>Note</th>\n      <th>Amount</th>\n      <th>Account</th>\n    </tr>\n  </thead>\n  <tbody>\n    <tr>\n      <th>0</th>\n      <td>2023-01-01</td>\n      <td>Food &amp; Drinks</td>\n      <td>Drinks</td>\n      <td>NaN</td>\n      <td>-61.87</td>\n      <td>2</td>\n    </tr>\n    <tr>\n      <th>1</th>\n      <td>2023-01-01</td>\n      <td>Food &amp; Drinks</td>\n      <td>Take-out</td>\n      <td>NaN</td>\n      <td>-59.83</td>\n      <td>2</td>\n    </tr>\n    <tr>\n      <th>2</th>\n      <td>2023-01-01</td>\n      <td>Food &amp; Drinks</td>\n      <td>Restaurant</td>\n      <td>NaN</td>\n      <td>-19.68</td>\n      <td>2</td>\n    </tr>\n    <tr>\n      <th>3</th>\n      <td>2023-01-01</td>\n      <td>Lifestyle</td>\n      <td>Pharmacy</td>\n      <td>NaN</td>\n      <td>-17.24</td>\n      <td>2</td>\n    </tr>\n    <tr>\n      <th>4</th>\n      <td>2023-01-02</td>\n      <td>Food &amp; Drinks</td>\n      <td>Candy</td>\n      <td>NaN</td>\n      <td>-17.25</td>\n      <td>2</td>\n    </tr>\n    <tr>\n      <th>...</th>\n      <td>...</td>\n      <td>...</td>\n      <td>...</td>\n      <td>...</td>\n      <td>...</td>\n      <td>...</td>\n    </tr>\n    <tr>\n      <th>81</th>\n      <td>2023-01-30</td>\n      <td>Food &amp; Drinks</td>\n      <td>Coffee</td>\n      <td>NaN</td>\n      <td>-4.92</td>\n      <td>2</td>\n    </tr>\n    <tr>\n      <th>82</th>\n      <td>2023-01-30</td>\n      <td>Food &amp; Drinks</td>\n      <td>Coffee</td>\n      <td>NaN</td>\n      <td>-4.90</td>\n      <td>2</td>\n    </tr>\n    <tr>\n      <th>83</th>\n      <td>2023-01-31</td>\n      <td>Food &amp; Drinks</td>\n      <td>Dine-out</td>\n      <td>NaN</td>\n      <td>-63.94</td>\n      <td>2</td>\n    </tr>\n    <tr>\n      <th>84</th>\n      <td>2023-01-31</td>\n      <td>Food &amp; Drinks</td>\n      <td>Coffee</td>\n      <td>NaN</td>\n      <td>-11.00</td>\n      <td>2</td>\n    </tr>\n    <tr>\n      <th>85</th>\n      <td>2023-01-31</td>\n      <td>Food &amp; Drinks</td>\n      <td>Coffee</td>\n      <td>NaN</td>\n      <td>-5.74</td>\n      <td>2</td>\n    </tr>\n  </tbody>\n</table>\n<p>86 rows × 6 columns</p>\n</div>"
     },
     "execution_count": 38,
     "metadata": {},
     "output_type": "execute_result"
    }
   ],
   "source": [
    "january"
   ],
   "metadata": {
    "collapsed": false,
    "ExecuteTime": {
     "end_time": "2024-03-12T00:39:51.102920Z",
     "start_time": "2024-03-12T00:39:51.094919Z"
    }
   },
   "id": "e3adbccf88416d0f",
   "execution_count": 38
  },
  {
   "cell_type": "code",
   "outputs": [],
   "source": [
    "january = january.drop([\"Note\"], axis=1)"
   ],
   "metadata": {
    "collapsed": false,
    "ExecuteTime": {
     "end_time": "2024-03-12T00:39:53.692182Z",
     "start_time": "2024-03-12T00:39:53.688681Z"
    }
   },
   "id": "5758ec924d00260d",
   "execution_count": 39
  },
  {
   "cell_type": "code",
   "outputs": [],
   "source": [
    "january_debit = january[january['Account'] == 1]\n",
    "january_credit = january[january['Account'] == 2]\n",
    "january_savings = january[january['Account'] == 3]"
   ],
   "metadata": {
    "collapsed": false,
    "ExecuteTime": {
     "end_time": "2024-03-12T00:39:55.543898Z",
     "start_time": "2024-03-12T00:39:55.539397Z"
    }
   },
   "id": "bffc72b99b3ffca1",
   "execution_count": 41
  },
  {
   "cell_type": "code",
   "outputs": [
    {
     "name": "stderr",
     "output_type": "stream",
     "text": [
      "C:\\Users\\peter\\AppData\\Local\\Temp\\ipykernel_19632\\3106032661.py:1: SettingWithCopyWarning: \n",
      "A value is trying to be set on a copy of a slice from a DataFrame.\n",
      "Try using .loc[row_indexer,col_indexer] = value instead\n",
      "\n",
      "See the caveats in the documentation: https://pandas.pydata.org/pandas-docs/stable/user_guide/indexing.html#returning-a-view-versus-a-copy\n",
      "  january_debit.loc[:, 'Account Balance'] = 0\n",
      "C:\\Users\\peter\\AppData\\Local\\Temp\\ipykernel_19632\\3106032661.py:2: SettingWithCopyWarning: \n",
      "A value is trying to be set on a copy of a slice from a DataFrame.\n",
      "Try using .loc[row_indexer,col_indexer] = value instead\n",
      "\n",
      "See the caveats in the documentation: https://pandas.pydata.org/pandas-docs/stable/user_guide/indexing.html#returning-a-view-versus-a-copy\n",
      "  january_credit.loc[:, 'Account Balance'] = 0\n",
      "C:\\Users\\peter\\AppData\\Local\\Temp\\ipykernel_19632\\3106032661.py:3: SettingWithCopyWarning: \n",
      "A value is trying to be set on a copy of a slice from a DataFrame.\n",
      "Try using .loc[row_indexer,col_indexer] = value instead\n",
      "\n",
      "See the caveats in the documentation: https://pandas.pydata.org/pandas-docs/stable/user_guide/indexing.html#returning-a-view-versus-a-copy\n",
      "  january_savings.loc[:, 'Account Balance'] = 0\n"
     ]
    }
   ],
   "source": [
    "january_debit.loc[:, 'Account Balance'] = 0\n",
    "january_credit.loc[:, 'Account Balance'] = 0\n",
    "january_savings.loc[:, 'Account Balance'] = 0"
   ],
   "metadata": {
    "collapsed": false,
    "ExecuteTime": {
     "end_time": "2024-03-12T00:39:57.090952Z",
     "start_time": "2024-03-12T00:39:57.086451Z"
    }
   },
   "id": "74aa3ebec4bcafde",
   "execution_count": 42
  },
  {
   "cell_type": "code",
   "outputs": [],
   "source": [
    "january_debit.at[6, 'Account Balance'] = 1000\n",
    "january_credit.at[0, 'Account Balance'] = -1000"
   ],
   "metadata": {
    "collapsed": false,
    "ExecuteTime": {
     "end_time": "2024-03-11T23:12:26.051246Z",
     "start_time": "2024-03-11T23:12:26.047745Z"
    }
   },
   "id": "2a78dc491cc62b3d",
   "execution_count": 20
  },
  {
   "cell_type": "code",
   "outputs": [],
   "source": [
    "january_savings.at[7, 'Account Balance'] = 5018.00"
   ],
   "metadata": {
    "collapsed": false,
    "ExecuteTime": {
     "end_time": "2024-03-12T00:40:38.554415Z",
     "start_time": "2024-03-12T00:40:38.551414Z"
    }
   },
   "id": "f52655bfbb0cf5ec",
   "execution_count": 44
  },
  {
   "cell_type": "code",
   "outputs": [],
   "source": [
    "january_credit.to_csv('Data/credit.csv')"
   ],
   "metadata": {
    "collapsed": false,
    "ExecuteTime": {
     "end_time": "2024-03-11T23:13:23.131269Z",
     "start_time": "2024-03-11T23:13:23.122768Z"
    }
   },
   "id": "4addc232e19afae5",
   "execution_count": 23
  },
  {
   "cell_type": "code",
   "outputs": [],
   "source": [
    "january_debit.to_csv('Data/debit.csv')"
   ],
   "metadata": {
    "collapsed": false,
    "ExecuteTime": {
     "end_time": "2024-03-11T23:15:27.585925Z",
     "start_time": "2024-03-11T23:15:27.574923Z"
    }
   },
   "id": "450e6704b1addb17",
   "execution_count": 24
  },
  {
   "cell_type": "code",
   "outputs": [],
   "source": [
    "january_debit = pd.read_csv('Data/debit.csv')\n",
    "january_credit = pd.read_csv('Data/credit.csv')"
   ],
   "metadata": {
    "collapsed": false,
    "ExecuteTime": {
     "end_time": "2024-03-12T00:41:03.462842Z",
     "start_time": "2024-03-12T00:41:03.456842Z"
    }
   },
   "id": "75bd21d3eae40436",
   "execution_count": 46
  },
  {
   "cell_type": "code",
   "outputs": [],
   "source": [
    "january_debit = january_debit.drop(index=3)"
   ],
   "metadata": {
    "collapsed": false,
    "ExecuteTime": {
     "end_time": "2024-03-12T00:42:14.705850Z",
     "start_time": "2024-03-12T00:42:14.701849Z"
    }
   },
   "id": "c9e53c82b44ab274",
   "execution_count": 51
  },
  {
   "cell_type": "code",
   "outputs": [
    {
     "ename": "ValueError",
     "evalue": "cannot insert level_0, already exists",
     "output_type": "error",
     "traceback": [
      "\u001B[1;31m---------------------------------------------------------------------------\u001B[0m",
      "\u001B[1;31mValueError\u001B[0m                                Traceback (most recent call last)",
      "\u001B[1;32m~\\AppData\\Local\\Temp\\ipykernel_19632\\3892088854.py\u001B[0m in \u001B[0;36m?\u001B[1;34m()\u001B[0m\n\u001B[1;32m----> 1\u001B[1;33m \u001B[0mjanuary_debit\u001B[0m\u001B[1;33m.\u001B[0m\u001B[0mreset_index\u001B[0m\u001B[1;33m(\u001B[0m\u001B[1;33m)\u001B[0m\u001B[1;33m\u001B[0m\u001B[1;33m\u001B[0m\u001B[0m\n\u001B[0m",
      "\u001B[1;32m~\\miniconda3\\envs\\Ledgr\\Lib\\site-packages\\pandas\\core\\frame.py\u001B[0m in \u001B[0;36m?\u001B[1;34m(self, level, drop, inplace, col_level, col_fill, allow_duplicates, names)\u001B[0m\n\u001B[0;32m   6216\u001B[0m                     level_values = algorithms.take(\n\u001B[0;32m   6217\u001B[0m                         \u001B[0mlevel_values\u001B[0m\u001B[1;33m,\u001B[0m \u001B[0mlab\u001B[0m\u001B[1;33m,\u001B[0m \u001B[0mallow_fill\u001B[0m\u001B[1;33m=\u001B[0m\u001B[1;32mTrue\u001B[0m\u001B[1;33m,\u001B[0m \u001B[0mfill_value\u001B[0m\u001B[1;33m=\u001B[0m\u001B[0mlev\u001B[0m\u001B[1;33m.\u001B[0m\u001B[0m_na_value\u001B[0m\u001B[1;33m\u001B[0m\u001B[1;33m\u001B[0m\u001B[0m\n\u001B[0;32m   6218\u001B[0m                     )\n\u001B[0;32m   6219\u001B[0m \u001B[1;33m\u001B[0m\u001B[0m\n\u001B[1;32m-> 6220\u001B[1;33m                 new_obj.insert(\n\u001B[0m\u001B[0;32m   6221\u001B[0m                     \u001B[1;36m0\u001B[0m\u001B[1;33m,\u001B[0m\u001B[1;33m\u001B[0m\u001B[1;33m\u001B[0m\u001B[0m\n\u001B[0;32m   6222\u001B[0m                     \u001B[0mname\u001B[0m\u001B[1;33m,\u001B[0m\u001B[1;33m\u001B[0m\u001B[1;33m\u001B[0m\u001B[0m\n\u001B[0;32m   6223\u001B[0m                     \u001B[0mlevel_values\u001B[0m\u001B[1;33m,\u001B[0m\u001B[1;33m\u001B[0m\u001B[1;33m\u001B[0m\u001B[0m\n",
      "\u001B[1;32m~\\miniconda3\\envs\\Ledgr\\Lib\\site-packages\\pandas\\core\\frame.py\u001B[0m in \u001B[0;36m?\u001B[1;34m(self, loc, column, value, allow_duplicates)\u001B[0m\n\u001B[0;32m   4927\u001B[0m                 \u001B[1;34m\"'self.flags.allows_duplicate_labels' is False.\"\u001B[0m\u001B[1;33m\u001B[0m\u001B[1;33m\u001B[0m\u001B[0m\n\u001B[0;32m   4928\u001B[0m             )\n\u001B[0;32m   4929\u001B[0m         \u001B[1;32mif\u001B[0m \u001B[1;32mnot\u001B[0m \u001B[0mallow_duplicates\u001B[0m \u001B[1;32mand\u001B[0m \u001B[0mcolumn\u001B[0m \u001B[1;32min\u001B[0m \u001B[0mself\u001B[0m\u001B[1;33m.\u001B[0m\u001B[0mcolumns\u001B[0m\u001B[1;33m:\u001B[0m\u001B[1;33m\u001B[0m\u001B[1;33m\u001B[0m\u001B[0m\n\u001B[0;32m   4930\u001B[0m             \u001B[1;31m# Should this be a different kind of error??\u001B[0m\u001B[1;33m\u001B[0m\u001B[1;33m\u001B[0m\u001B[0m\n\u001B[1;32m-> 4931\u001B[1;33m             \u001B[1;32mraise\u001B[0m \u001B[0mValueError\u001B[0m\u001B[1;33m(\u001B[0m\u001B[1;34mf\"cannot insert {column}, already exists\"\u001B[0m\u001B[1;33m)\u001B[0m\u001B[1;33m\u001B[0m\u001B[1;33m\u001B[0m\u001B[0m\n\u001B[0m\u001B[0;32m   4932\u001B[0m         \u001B[1;32mif\u001B[0m \u001B[1;32mnot\u001B[0m \u001B[0mis_integer\u001B[0m\u001B[1;33m(\u001B[0m\u001B[0mloc\u001B[0m\u001B[1;33m)\u001B[0m\u001B[1;33m:\u001B[0m\u001B[1;33m\u001B[0m\u001B[1;33m\u001B[0m\u001B[0m\n\u001B[0;32m   4933\u001B[0m             \u001B[1;32mraise\u001B[0m \u001B[0mTypeError\u001B[0m\u001B[1;33m(\u001B[0m\u001B[1;34m\"loc must be int\"\u001B[0m\u001B[1;33m)\u001B[0m\u001B[1;33m\u001B[0m\u001B[1;33m\u001B[0m\u001B[0m\n\u001B[0;32m   4934\u001B[0m         \u001B[1;31m# convert non stdlib ints to satisfy typing checks\u001B[0m\u001B[1;33m\u001B[0m\u001B[1;33m\u001B[0m\u001B[0m\n",
      "\u001B[1;31mValueError\u001B[0m: cannot insert level_0, already exists"
     ]
    }
   ],
   "source": [
    "january_debit.reset_index()"
   ],
   "metadata": {
    "collapsed": false,
    "ExecuteTime": {
     "end_time": "2024-03-12T00:42:24.531384Z",
     "start_time": "2024-03-12T00:42:24.517381Z"
    }
   },
   "id": "9d43c030aac946c3",
   "execution_count": 53
  },
  {
   "cell_type": "code",
   "outputs": [],
   "source": [
    "january_debit = january_debit.drop(columns=['index'])"
   ],
   "metadata": {
    "collapsed": false,
    "ExecuteTime": {
     "end_time": "2024-03-12T00:43:38.957632Z",
     "start_time": "2024-03-12T00:43:38.954132Z"
    }
   },
   "id": "94f0964b16b5ef59",
   "execution_count": 57
  },
  {
   "cell_type": "code",
   "outputs": [],
   "source": [
    "january_debit.to_csv('Data/debit.csv')"
   ],
   "metadata": {
    "collapsed": false,
    "ExecuteTime": {
     "end_time": "2024-03-12T00:44:05.353253Z",
     "start_time": "2024-03-12T00:44:05.349253Z"
    }
   },
   "id": "44def84560e08a36",
   "execution_count": 60
  },
  {
   "cell_type": "code",
   "outputs": [],
   "source": [
    "january_savings.to_csv('Data/savings.csv')"
   ],
   "metadata": {
    "collapsed": false,
    "ExecuteTime": {
     "end_time": "2024-03-12T00:44:30.158422Z",
     "start_time": "2024-03-12T00:44:30.154421Z"
    }
   },
   "id": "abcbdce9f6459e0a",
   "execution_count": 63
  },
  {
   "cell_type": "code",
   "outputs": [],
   "source": [
    "january_savings = pd.read_csv('Data/savings.csv')"
   ],
   "metadata": {
    "collapsed": false,
    "ExecuteTime": {
     "end_time": "2024-03-12T00:44:59.404440Z",
     "start_time": "2024-03-12T00:44:59.394431Z"
    }
   },
   "id": "68f6704e1bbbf462",
   "execution_count": 64
  },
  {
   "cell_type": "code",
   "outputs": [],
   "source": [
    "accounts = [january_debit, january_credit, january_savings]"
   ],
   "metadata": {
    "collapsed": false,
    "ExecuteTime": {
     "end_time": "2024-03-12T00:46:13.935888Z",
     "start_time": "2024-03-12T00:46:13.932887Z"
    }
   },
   "id": "7f99fcec2894a7bc",
   "execution_count": 65
  },
  {
   "cell_type": "code",
   "outputs": [],
   "source": [
    "all_accounts = pd.concat(accounts)"
   ],
   "metadata": {
    "collapsed": false,
    "ExecuteTime": {
     "end_time": "2024-03-12T00:46:29.893594Z",
     "start_time": "2024-03-12T00:46:29.889093Z"
    }
   },
   "id": "5902f32e79a7bde1",
   "execution_count": 66
  },
  {
   "cell_type": "code",
   "outputs": [],
   "source": [
    "all_accounts.sort_values(by=['Date'], inplace=True)"
   ],
   "metadata": {
    "collapsed": false,
    "ExecuteTime": {
     "end_time": "2024-03-12T00:48:29.301956Z",
     "start_time": "2024-03-12T00:48:29.295953Z"
    }
   },
   "id": "87246711c883b110",
   "execution_count": 67
  },
  {
   "cell_type": "code",
   "outputs": [],
   "source": [
    "all_accounts = all_accounts.reset_index(drop=True)"
   ],
   "metadata": {
    "collapsed": false,
    "ExecuteTime": {
     "end_time": "2024-03-12T00:49:01.557128Z",
     "start_time": "2024-03-12T00:49:01.554128Z"
    }
   },
   "id": "d75885ace27e165f",
   "execution_count": 69
  },
  {
   "cell_type": "code",
   "outputs": [],
   "source": [
    "all_accounts = all_accounts.drop(columns=['Unnamed: 0'])"
   ],
   "metadata": {
    "collapsed": false,
    "ExecuteTime": {
     "end_time": "2024-03-12T00:51:09.615822Z",
     "start_time": "2024-03-12T00:51:09.612322Z"
    }
   },
   "id": "5e018a1bcd0a18f2",
   "execution_count": 74
  },
  {
   "cell_type": "code",
   "outputs": [],
   "source": [
    "all_accounts.to_csv('Data/transactions.csv')"
   ],
   "metadata": {
    "collapsed": false,
    "ExecuteTime": {
     "end_time": "2024-03-12T00:51:14.201431Z",
     "start_time": "2024-03-12T00:51:14.197431Z"
    }
   },
   "id": "73a134e4ff99e5b5",
   "execution_count": 75
  },
  {
   "cell_type": "code",
   "outputs": [],
   "source": [
    "february = pd.read_csv('../Data/csv_data/monthly/febuary_2023.csv')"
   ],
   "metadata": {
    "collapsed": false,
    "ExecuteTime": {
     "end_time": "2024-03-12T01:56:05.452193Z",
     "start_time": "2024-03-12T01:56:05.447691Z"
    }
   },
   "id": "949780253b990757",
   "execution_count": 80
  },
  {
   "cell_type": "code",
   "outputs": [],
   "source": [
    "february = february.drop(columns=['Note'])"
   ],
   "metadata": {
    "collapsed": false,
    "ExecuteTime": {
     "end_time": "2024-03-12T01:56:30.192603Z",
     "start_time": "2024-03-12T01:56:30.189102Z"
    }
   },
   "id": "9b614b44e2812d4e",
   "execution_count": 81
  },
  {
   "cell_type": "code",
   "outputs": [
    {
     "data": {
      "text/plain": "          Date  Head Category      Category  Amount  Account\n0   2023-02-01        Housing          Rent -650.00        1\n1   2023-02-01        Housing          Bank    4.93        3\n2   2023-02-01  Food & Drinks      Dine-out  -30.38        2\n3   2023-02-01  Food & Drinks        Coffee   -4.90        2\n4   2023-02-01  Food & Drinks        Coffee   -4.90        2\n..         ...            ...           ...     ...      ...\n94  2023-02-27  Food & Drinks      Dine-out  -30.38        2\n95  2023-02-27  Food & Drinks      Dine-out  -34.93        2\n96  2023-02-27  Food & Drinks      Dine-out  -24.06        2\n97  2023-02-27  Food & Drinks        Coffee   -4.93        2\n98  2023-02-28  Entertainment  Subscription   -9.99        2\n\n[99 rows x 5 columns]",
      "text/html": "<div>\n<style scoped>\n    .dataframe tbody tr th:only-of-type {\n        vertical-align: middle;\n    }\n\n    .dataframe tbody tr th {\n        vertical-align: top;\n    }\n\n    .dataframe thead th {\n        text-align: right;\n    }\n</style>\n<table border=\"1\" class=\"dataframe\">\n  <thead>\n    <tr style=\"text-align: right;\">\n      <th></th>\n      <th>Date</th>\n      <th>Head Category</th>\n      <th>Category</th>\n      <th>Amount</th>\n      <th>Account</th>\n    </tr>\n  </thead>\n  <tbody>\n    <tr>\n      <th>0</th>\n      <td>2023-02-01</td>\n      <td>Housing</td>\n      <td>Rent</td>\n      <td>-650.00</td>\n      <td>1</td>\n    </tr>\n    <tr>\n      <th>1</th>\n      <td>2023-02-01</td>\n      <td>Housing</td>\n      <td>Bank</td>\n      <td>4.93</td>\n      <td>3</td>\n    </tr>\n    <tr>\n      <th>2</th>\n      <td>2023-02-01</td>\n      <td>Food &amp; Drinks</td>\n      <td>Dine-out</td>\n      <td>-30.38</td>\n      <td>2</td>\n    </tr>\n    <tr>\n      <th>3</th>\n      <td>2023-02-01</td>\n      <td>Food &amp; Drinks</td>\n      <td>Coffee</td>\n      <td>-4.90</td>\n      <td>2</td>\n    </tr>\n    <tr>\n      <th>4</th>\n      <td>2023-02-01</td>\n      <td>Food &amp; Drinks</td>\n      <td>Coffee</td>\n      <td>-4.90</td>\n      <td>2</td>\n    </tr>\n    <tr>\n      <th>...</th>\n      <td>...</td>\n      <td>...</td>\n      <td>...</td>\n      <td>...</td>\n      <td>...</td>\n    </tr>\n    <tr>\n      <th>94</th>\n      <td>2023-02-27</td>\n      <td>Food &amp; Drinks</td>\n      <td>Dine-out</td>\n      <td>-30.38</td>\n      <td>2</td>\n    </tr>\n    <tr>\n      <th>95</th>\n      <td>2023-02-27</td>\n      <td>Food &amp; Drinks</td>\n      <td>Dine-out</td>\n      <td>-34.93</td>\n      <td>2</td>\n    </tr>\n    <tr>\n      <th>96</th>\n      <td>2023-02-27</td>\n      <td>Food &amp; Drinks</td>\n      <td>Dine-out</td>\n      <td>-24.06</td>\n      <td>2</td>\n    </tr>\n    <tr>\n      <th>97</th>\n      <td>2023-02-27</td>\n      <td>Food &amp; Drinks</td>\n      <td>Coffee</td>\n      <td>-4.93</td>\n      <td>2</td>\n    </tr>\n    <tr>\n      <th>98</th>\n      <td>2023-02-28</td>\n      <td>Entertainment</td>\n      <td>Subscription</td>\n      <td>-9.99</td>\n      <td>2</td>\n    </tr>\n  </tbody>\n</table>\n<p>99 rows × 5 columns</p>\n</div>"
     },
     "execution_count": 82,
     "metadata": {},
     "output_type": "execute_result"
    }
   ],
   "source": [
    "february"
   ],
   "metadata": {
    "collapsed": false,
    "ExecuteTime": {
     "end_time": "2024-03-12T01:56:34.943160Z",
     "start_time": "2024-03-12T01:56:34.935659Z"
    }
   },
   "id": "195d3a65098a5eb8",
   "execution_count": 82
  },
  {
   "cell_type": "code",
   "outputs": [],
   "source": [
    "february_debit = february[february['Account'] == 1]\n",
    "february_credit = february[february['Account'] == 2]\n",
    "february_savings = february[february['Account'] == 3]"
   ],
   "metadata": {
    "collapsed": false,
    "ExecuteTime": {
     "end_time": "2024-03-12T01:57:12.982955Z",
     "start_time": "2024-03-12T01:57:12.978955Z"
    }
   },
   "id": "44fe2a555bc5ba2f",
   "execution_count": 83
  },
  {
   "cell_type": "code",
   "outputs": [
    {
     "name": "stderr",
     "output_type": "stream",
     "text": [
      "C:\\Users\\peter\\AppData\\Local\\Temp\\ipykernel_19632\\2790503732.py:1: SettingWithCopyWarning: \n",
      "A value is trying to be set on a copy of a slice from a DataFrame.\n",
      "Try using .loc[row_indexer,col_indexer] = value instead\n",
      "\n",
      "See the caveats in the documentation: https://pandas.pydata.org/pandas-docs/stable/user_guide/indexing.html#returning-a-view-versus-a-copy\n",
      "  february_debit.loc[:, 'Account Balance'] = 0\n",
      "C:\\Users\\peter\\AppData\\Local\\Temp\\ipykernel_19632\\2790503732.py:2: SettingWithCopyWarning: \n",
      "A value is trying to be set on a copy of a slice from a DataFrame.\n",
      "Try using .loc[row_indexer,col_indexer] = value instead\n",
      "\n",
      "See the caveats in the documentation: https://pandas.pydata.org/pandas-docs/stable/user_guide/indexing.html#returning-a-view-versus-a-copy\n",
      "  february_credit.loc[:, 'Account Balance'] = 0\n",
      "C:\\Users\\peter\\AppData\\Local\\Temp\\ipykernel_19632\\2790503732.py:3: SettingWithCopyWarning: \n",
      "A value is trying to be set on a copy of a slice from a DataFrame.\n",
      "Try using .loc[row_indexer,col_indexer] = value instead\n",
      "\n",
      "See the caveats in the documentation: https://pandas.pydata.org/pandas-docs/stable/user_guide/indexing.html#returning-a-view-versus-a-copy\n",
      "  february_savings.loc[:, 'Account Balance'] = 0\n"
     ]
    }
   ],
   "source": [
    "february_debit.loc[:, 'Account Balance'] = 0\n",
    "february_credit.loc[:, 'Account Balance'] = 0\n",
    "february_savings.loc[:, 'Account Balance'] = 0"
   ],
   "metadata": {
    "collapsed": false,
    "ExecuteTime": {
     "end_time": "2024-03-12T01:57:36.731349Z",
     "start_time": "2024-03-12T01:57:36.727347Z"
    }
   },
   "id": "78b49105c2cdcfb7",
   "execution_count": 84
  },
  {
   "cell_type": "code",
   "outputs": [
    {
     "data": {
      "text/plain": "          Date  Head Category      Category  Amount  Account  Account Balance\n2   2023-02-01  Food & Drinks      Dine-out  -30.38        2                0\n3   2023-02-01  Food & Drinks        Coffee   -4.90        2                0\n4   2023-02-01  Food & Drinks        Coffee   -4.90        2                0\n5   2023-02-01  Food & Drinks        Coffee   -4.93        2                0\n6   2023-02-02  Food & Drinks        Coffee   -9.88        2                0\n..         ...            ...           ...     ...      ...              ...\n94  2023-02-27  Food & Drinks      Dine-out  -30.38        2                0\n95  2023-02-27  Food & Drinks      Dine-out  -34.93        2                0\n96  2023-02-27  Food & Drinks      Dine-out  -24.06        2                0\n97  2023-02-27  Food & Drinks        Coffee   -4.93        2                0\n98  2023-02-28  Entertainment  Subscription   -9.99        2                0\n\n[87 rows x 6 columns]",
      "text/html": "<div>\n<style scoped>\n    .dataframe tbody tr th:only-of-type {\n        vertical-align: middle;\n    }\n\n    .dataframe tbody tr th {\n        vertical-align: top;\n    }\n\n    .dataframe thead th {\n        text-align: right;\n    }\n</style>\n<table border=\"1\" class=\"dataframe\">\n  <thead>\n    <tr style=\"text-align: right;\">\n      <th></th>\n      <th>Date</th>\n      <th>Head Category</th>\n      <th>Category</th>\n      <th>Amount</th>\n      <th>Account</th>\n      <th>Account Balance</th>\n    </tr>\n  </thead>\n  <tbody>\n    <tr>\n      <th>2</th>\n      <td>2023-02-01</td>\n      <td>Food &amp; Drinks</td>\n      <td>Dine-out</td>\n      <td>-30.38</td>\n      <td>2</td>\n      <td>0</td>\n    </tr>\n    <tr>\n      <th>3</th>\n      <td>2023-02-01</td>\n      <td>Food &amp; Drinks</td>\n      <td>Coffee</td>\n      <td>-4.90</td>\n      <td>2</td>\n      <td>0</td>\n    </tr>\n    <tr>\n      <th>4</th>\n      <td>2023-02-01</td>\n      <td>Food &amp; Drinks</td>\n      <td>Coffee</td>\n      <td>-4.90</td>\n      <td>2</td>\n      <td>0</td>\n    </tr>\n    <tr>\n      <th>5</th>\n      <td>2023-02-01</td>\n      <td>Food &amp; Drinks</td>\n      <td>Coffee</td>\n      <td>-4.93</td>\n      <td>2</td>\n      <td>0</td>\n    </tr>\n    <tr>\n      <th>6</th>\n      <td>2023-02-02</td>\n      <td>Food &amp; Drinks</td>\n      <td>Coffee</td>\n      <td>-9.88</td>\n      <td>2</td>\n      <td>0</td>\n    </tr>\n    <tr>\n      <th>...</th>\n      <td>...</td>\n      <td>...</td>\n      <td>...</td>\n      <td>...</td>\n      <td>...</td>\n      <td>...</td>\n    </tr>\n    <tr>\n      <th>94</th>\n      <td>2023-02-27</td>\n      <td>Food &amp; Drinks</td>\n      <td>Dine-out</td>\n      <td>-30.38</td>\n      <td>2</td>\n      <td>0</td>\n    </tr>\n    <tr>\n      <th>95</th>\n      <td>2023-02-27</td>\n      <td>Food &amp; Drinks</td>\n      <td>Dine-out</td>\n      <td>-34.93</td>\n      <td>2</td>\n      <td>0</td>\n    </tr>\n    <tr>\n      <th>96</th>\n      <td>2023-02-27</td>\n      <td>Food &amp; Drinks</td>\n      <td>Dine-out</td>\n      <td>-24.06</td>\n      <td>2</td>\n      <td>0</td>\n    </tr>\n    <tr>\n      <th>97</th>\n      <td>2023-02-27</td>\n      <td>Food &amp; Drinks</td>\n      <td>Coffee</td>\n      <td>-4.93</td>\n      <td>2</td>\n      <td>0</td>\n    </tr>\n    <tr>\n      <th>98</th>\n      <td>2023-02-28</td>\n      <td>Entertainment</td>\n      <td>Subscription</td>\n      <td>-9.99</td>\n      <td>2</td>\n      <td>0</td>\n    </tr>\n  </tbody>\n</table>\n<p>87 rows × 6 columns</p>\n</div>"
     },
     "execution_count": 85,
     "metadata": {},
     "output_type": "execute_result"
    }
   ],
   "source": [
    "february_credit"
   ],
   "metadata": {
    "collapsed": false,
    "ExecuteTime": {
     "end_time": "2024-03-12T01:57:53.911300Z",
     "start_time": "2024-03-12T01:57:53.903299Z"
    }
   },
   "id": "96765986cbecf73f",
   "execution_count": 85
  },
  {
   "cell_type": "code",
   "outputs": [],
   "source": [
    "february_debit.to_csv('Data/february_debit.csv')\n",
    "february_credit.to_csv('Data/february_credit.csv')\n",
    "february_savings.to_csv('Data/february_savings.csv')"
   ],
   "metadata": {
    "collapsed": false,
    "ExecuteTime": {
     "end_time": "2024-03-12T01:59:07.941653Z",
     "start_time": "2024-03-12T01:59:07.918143Z"
    }
   },
   "id": "463e39089635417f",
   "execution_count": 87
  },
  {
   "cell_type": "code",
   "outputs": [],
   "source": [
    "february_debit = pd.read_csv('Data/february_debit.csv')\n",
    "february_credit = pd.read_csv('Data/february_credit.csv')\n",
    "february_savings = pd.read_csv('Data/february_savings.csv')"
   ],
   "metadata": {
    "collapsed": false,
    "ExecuteTime": {
     "end_time": "2024-03-12T02:08:41.900320Z",
     "start_time": "2024-03-12T02:08:41.893319Z"
    }
   },
   "id": "8f2697cc1300b947",
   "execution_count": 88
  },
  {
   "cell_type": "code",
   "outputs": [],
   "source": [
    "accounts = [february_debit, february_credit, february_savings]"
   ],
   "metadata": {
    "collapsed": false,
    "ExecuteTime": {
     "end_time": "2024-03-12T02:09:04.936369Z",
     "start_time": "2024-03-12T02:09:04.933368Z"
    }
   },
   "id": "8451aef73d8d74ba",
   "execution_count": 89
  },
  {
   "cell_type": "code",
   "outputs": [],
   "source": [
    "all_accounts = pd.concat(accounts)\n",
    "\n",
    "all_accounts.sort_values(by=['Date'], inplace=True)\n",
    "all_accounts = all_accounts.reset_index(drop=True)"
   ],
   "metadata": {
    "collapsed": false,
    "ExecuteTime": {
     "end_time": "2024-03-12T02:09:33.799603Z",
     "start_time": "2024-03-12T02:09:33.795103Z"
    }
   },
   "id": "1a787a33978d89a4",
   "execution_count": 90
  },
  {
   "cell_type": "code",
   "outputs": [],
   "source": [
    "all_accounts = all_accounts.drop(columns=['Unnamed: 0'])\n",
    "all_accounts.to_csv('Data/feb_transactions.csv')"
   ],
   "metadata": {
    "collapsed": false,
    "ExecuteTime": {
     "end_time": "2024-03-12T02:10:15.925681Z",
     "start_time": "2024-03-12T02:10:15.920180Z"
    }
   },
   "id": "1daa566c292cf506",
   "execution_count": 92
  },
  {
   "cell_type": "code",
   "outputs": [],
   "source": [],
   "metadata": {
    "collapsed": false
   },
   "id": "83f8b44ed97b1887"
  }
 ],
 "metadata": {
  "kernelspec": {
   "display_name": "Python 3",
   "language": "python",
   "name": "python3"
  },
  "language_info": {
   "codemirror_mode": {
    "name": "ipython",
    "version": 2
   },
   "file_extension": ".py",
   "mimetype": "text/x-python",
   "name": "python",
   "nbconvert_exporter": "python",
   "pygments_lexer": "ipython2",
   "version": "2.7.6"
  }
 },
 "nbformat": 4,
 "nbformat_minor": 5
}
