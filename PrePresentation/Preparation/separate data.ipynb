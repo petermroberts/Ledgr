{
 "cells": [
  {
   "cell_type": "code",
   "execution_count": 1,
   "id": "initial_id",
   "metadata": {
    "collapsed": true,
    "ExecuteTime": {
     "end_time": "2024-04-05T12:39:45.810345Z",
     "start_time": "2024-04-05T12:39:45.807845Z"
    }
   },
   "outputs": [],
   "source": [
    "import pandas as pd\n",
    "import numpy as np"
   ]
  },
  {
   "cell_type": "code",
   "outputs": [],
   "source": [
    "transactions = pd.read_csv('./Data/InitTraining.csv')\n",
    "transactions.replace({'Category' : {'Personal' : 'Personal Care'}}, inplace = True)\n",
    "transactions.replace(',', '',regex=True, inplace=True)"
   ],
   "metadata": {
    "collapsed": false,
    "ExecuteTime": {
     "end_time": "2024-04-05T12:40:26.402260Z",
     "start_time": "2024-04-05T12:40:26.392759Z"
    }
   },
   "id": "6bbf4334a3f1ee07",
   "execution_count": 2
  },
  {
   "cell_type": "code",
   "outputs": [],
   "source": [
    "transactions = transactions.astype({'Amount': float, 'Balance': float})\n",
    "transactions.drop(columns=['Balance', 'Account'], inplace=True)\n",
    "\n",
    "food = transactions[transactions['Category'] == 'Food & Drinks']\n",
    "housing = transactions[transactions['Category'] == 'Housing']\n",
    "utilities = transactions[transactions['Category'] == 'Utilities']\n",
    "personal = transactions[transactions['Category'] == 'Personal Care']\n",
    "entertainment = transactions[transactions['Category'] == 'Entertainment']\n",
    "income = transactions[transactions['Category'] == 'Income']\n",
    "transportation = transactions[transactions['Category'] == 'Transportation']\n",
    "debt = transactions[transactions['Category'] == 'Debt']\n",
    "lifestyle = transactions[transactions['Category'] == 'Lifestyle']\n",
    "bank = transactions[transactions['Category'] == 'Bank']\n",
    "investment = transactions[transactions['Category'] == 'Investment']\n",
    "savings = transactions[transactions['Category'] == 'Savings']"
   ],
   "metadata": {
    "collapsed": false,
    "ExecuteTime": {
     "end_time": "2024-04-05T12:41:53.014383Z",
     "start_time": "2024-04-05T12:41:53.003381Z"
    }
   },
   "id": "cc80ca83782170ba",
   "execution_count": 3
  },
  {
   "cell_type": "code",
   "outputs": [],
   "source": [
    "food.to_csv('Data/food.csv', index = False)\n",
    "housing.to_csv('Data/housing.csv', index = False)\n",
    "utilities.to_csv('Data/utilities.csv', index = False)\n",
    "personal.to_csv('Data/personal.csv', index = False)\n",
    "entertainment.to_csv('Data/entertainment.csv', index=False)\n",
    "income.to_csv('Data/income.csv', index = False)\n",
    "transportation.to_csv('Data/transportation.csv', index = False)\n",
    "debt.to_csv('Data/debt.csv', index = False)\n",
    "lifestyle.to_csv('Data/lifestyle.csv', index = False)\n",
    "bank.to_csv('Data/bank.csv', index = False)\n",
    "investment.to_csv('Data/investment.csv', index = False)\n",
    "savings.to_csv('Data/savings.csv', index = False)"
   ],
   "metadata": {
    "collapsed": false,
    "ExecuteTime": {
     "end_time": "2024-04-05T12:47:07.002516Z",
     "start_time": "2024-04-05T12:47:06.979512Z"
    }
   },
   "id": "19b8aa2da315d246",
   "execution_count": 6
  },
  {
   "cell_type": "code",
   "outputs": [],
   "source": [],
   "metadata": {
    "collapsed": false
   },
   "id": "9f178709a5fc548d"
  }
 ],
 "metadata": {
  "kernelspec": {
   "display_name": "Python 3",
   "language": "python",
   "name": "python3"
  },
  "language_info": {
   "codemirror_mode": {
    "name": "ipython",
    "version": 2
   },
   "file_extension": ".py",
   "mimetype": "text/x-python",
   "name": "python",
   "nbconvert_exporter": "python",
   "pygments_lexer": "ipython2",
   "version": "2.7.6"
  }
 },
 "nbformat": 4,
 "nbformat_minor": 5
}
