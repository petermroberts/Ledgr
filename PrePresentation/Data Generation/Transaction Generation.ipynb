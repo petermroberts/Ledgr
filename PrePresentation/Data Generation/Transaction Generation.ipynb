{
 "cells": [
  {
   "cell_type": "code",
   "execution_count": 1,
   "id": "initial_id",
   "metadata": {
    "collapsed": true,
    "ExecuteTime": {
     "end_time": "2024-02-29T21:12:15.954164Z",
     "start_time": "2024-02-29T21:12:15.383564Z"
    }
   },
   "outputs": [],
   "source": [
    "from faker import Faker\n",
    "from faker.providers import BaseProvider, DynamicProvider\n",
    "import pandas as pd"
   ]
  },
  {
   "cell_type": "code",
   "outputs": [],
   "source": [
    "fake = Faker()"
   ],
   "metadata": {
    "collapsed": false,
    "ExecuteTime": {
     "end_time": "2024-02-29T21:12:22.051226Z",
     "start_time": "2024-02-29T21:12:21.963711Z"
    }
   },
   "id": "8e87b4ae5b451557",
   "execution_count": 2
  },
  {
   "cell_type": "markdown",
   "source": [
    "# Random Finance Data Generator"
   ],
   "metadata": {
    "collapsed": false
   },
   "id": "3feba2aa7729a3bf"
  },
  {
   "cell_type": "markdown",
   "source": [
    "## Generate random people with accounts\n",
    "For this we need the following\n",
    "- Person\n",
    "    - Name\n",
    "    - DOB\n",
    "    - Accounts and numbers"
   ],
   "metadata": {
    "collapsed": false
   },
   "id": "973710752fa48e49"
  },
  {
   "cell_type": "code",
   "outputs": [],
   "source": [
    "transactions_df = pd.read_csv('../Data/personal_transactions.csv')"
   ],
   "metadata": {
    "collapsed": false,
    "ExecuteTime": {
     "end_time": "2024-02-29T21:12:54.524788Z",
     "start_time": "2024-02-29T21:12:54.518288Z"
    }
   },
   "id": "4997673b27ba3e0d",
   "execution_count": 4
  },
  {
   "cell_type": "code",
   "outputs": [
    {
     "data": {
      "text/plain": "         Date          Description   Amount Transaction Type  \\\n0  01/01/2018               Amazon    11.11            debit   \n1  01/02/2018     Mortgage Payment  1247.44            debit   \n2  01/02/2018      Thai Restaurant    24.22            debit   \n3  01/03/2018  Credit Card Payment  2298.09           credit   \n4  01/04/2018              Netflix    11.76            debit   \n\n              Category   Account Name  \n0             Shopping  Platinum Card  \n1      Mortgage & Rent       Checking  \n2          Restaurants    Silver Card  \n3  Credit Card Payment  Platinum Card  \n4        Movies & DVDs  Platinum Card  ",
      "text/html": "<div>\n<style scoped>\n    .dataframe tbody tr th:only-of-type {\n        vertical-align: middle;\n    }\n\n    .dataframe tbody tr th {\n        vertical-align: top;\n    }\n\n    .dataframe thead th {\n        text-align: right;\n    }\n</style>\n<table border=\"1\" class=\"dataframe\">\n  <thead>\n    <tr style=\"text-align: right;\">\n      <th></th>\n      <th>Date</th>\n      <th>Description</th>\n      <th>Amount</th>\n      <th>Transaction Type</th>\n      <th>Category</th>\n      <th>Account Name</th>\n    </tr>\n  </thead>\n  <tbody>\n    <tr>\n      <th>0</th>\n      <td>01/01/2018</td>\n      <td>Amazon</td>\n      <td>11.11</td>\n      <td>debit</td>\n      <td>Shopping</td>\n      <td>Platinum Card</td>\n    </tr>\n    <tr>\n      <th>1</th>\n      <td>01/02/2018</td>\n      <td>Mortgage Payment</td>\n      <td>1247.44</td>\n      <td>debit</td>\n      <td>Mortgage &amp; Rent</td>\n      <td>Checking</td>\n    </tr>\n    <tr>\n      <th>2</th>\n      <td>01/02/2018</td>\n      <td>Thai Restaurant</td>\n      <td>24.22</td>\n      <td>debit</td>\n      <td>Restaurants</td>\n      <td>Silver Card</td>\n    </tr>\n    <tr>\n      <th>3</th>\n      <td>01/03/2018</td>\n      <td>Credit Card Payment</td>\n      <td>2298.09</td>\n      <td>credit</td>\n      <td>Credit Card Payment</td>\n      <td>Platinum Card</td>\n    </tr>\n    <tr>\n      <th>4</th>\n      <td>01/04/2018</td>\n      <td>Netflix</td>\n      <td>11.76</td>\n      <td>debit</td>\n      <td>Movies &amp; DVDs</td>\n      <td>Platinum Card</td>\n    </tr>\n  </tbody>\n</table>\n</div>"
     },
     "execution_count": 5,
     "metadata": {},
     "output_type": "execute_result"
    }
   ],
   "source": [
    "transactions_df.head()"
   ],
   "metadata": {
    "collapsed": false,
    "ExecuteTime": {
     "end_time": "2024-02-29T21:13:08.984428Z",
     "start_time": "2024-02-29T21:13:08.972926Z"
    }
   },
   "id": "2437cd54c2e763fd",
   "execution_count": 5
  },
  {
   "cell_type": "code",
   "outputs": [
    {
     "name": "stdout",
     "output_type": "stream",
     "text": [
      "['Shopping' 'Mortgage & Rent' 'Restaurants' 'Credit Card Payment'\n",
      " 'Movies & DVDs' 'Home Improvement' 'Utilities' 'Music' 'Mobile Phone'\n",
      " 'Gas & Fuel' 'Groceries' 'Paycheck' 'Fast Food' 'Coffee Shops' 'Internet'\n",
      " 'Haircut' 'Alcohol & Bars' 'Auto Insurance' 'Entertainment'\n",
      " 'Food & Dining' 'Television' 'Electronics & Software']\n"
     ]
    }
   ],
   "source": [
    "print(transactions_df.Category.unique())"
   ],
   "metadata": {
    "collapsed": false,
    "ExecuteTime": {
     "end_time": "2024-02-29T21:14:38.546119Z",
     "start_time": "2024-02-29T21:14:38.542118Z"
    }
   },
   "id": "6264d9443a685942",
   "execution_count": 6
  },
  {
   "cell_type": "code",
   "outputs": [
    {
     "name": "stdout",
     "output_type": "stream",
     "text": [
      "['Platinum Card' 'Checking' 'Silver Card']\n"
     ]
    }
   ],
   "source": [
    "print(transactions_df['Account Name'].unique())"
   ],
   "metadata": {
    "collapsed": false,
    "ExecuteTime": {
     "end_time": "2024-02-29T21:15:13.344564Z",
     "start_time": "2024-02-29T21:15:13.340563Z"
    }
   },
   "id": "bbbfb5017ffde32a",
   "execution_count": 7
  },
  {
   "cell_type": "code",
   "outputs": [
    {
     "name": "stdout",
     "output_type": "stream",
     "text": [
      "<class 'pandas.core.frame.DataFrame'>\n",
      "RangeIndex: 806 entries, 0 to 805\n",
      "Data columns (total 6 columns):\n",
      " #   Column            Non-Null Count  Dtype  \n",
      "---  ------            --------------  -----  \n",
      " 0   Date              806 non-null    object \n",
      " 1   Description       806 non-null    object \n",
      " 2   Amount            806 non-null    float64\n",
      " 3   Transaction Type  806 non-null    object \n",
      " 4   Category          806 non-null    object \n",
      " 5   Account Name      806 non-null    object \n",
      "dtypes: float64(1), object(5)\n",
      "memory usage: 37.9+ KB\n"
     ]
    }
   ],
   "source": [
    "transactions_df.info()"
   ],
   "metadata": {
    "collapsed": false,
    "ExecuteTime": {
     "end_time": "2024-02-29T21:15:56.035103Z",
     "start_time": "2024-02-29T21:15:56.027101Z"
    }
   },
   "id": "24435c45e024dde5",
   "execution_count": 8
  },
  {
   "cell_type": "code",
   "outputs": [],
   "source": [
    "new_transactions_df = transactions_df"
   ],
   "metadata": {
    "collapsed": false,
    "ExecuteTime": {
     "end_time": "2024-02-29T21:46:22.908438Z",
     "start_time": "2024-02-29T21:46:22.904938Z"
    }
   },
   "id": "21418be3eae211ae",
   "execution_count": 24
  },
  {
   "cell_type": "code",
   "outputs": [],
   "source": [
    "transit = fake.numerify('#####')"
   ],
   "metadata": {
    "collapsed": false,
    "ExecuteTime": {
     "end_time": "2024-02-29T21:35:51.983305Z",
     "start_time": "2024-02-29T21:35:51.978804Z"
    }
   },
   "id": "bcc37b02ff3b3612",
   "execution_count": 10
  },
  {
   "cell_type": "code",
   "outputs": [],
   "source": [
    "chequing = transit + fake.numerify('-#######')\n",
    "platinum = transit + fake.numerify('-#######')\n",
    "silver = transit + fake.numerify('-#######')"
   ],
   "metadata": {
    "collapsed": false,
    "ExecuteTime": {
     "end_time": "2024-02-29T21:36:01.795156Z",
     "start_time": "2024-02-29T21:36:01.792156Z"
    }
   },
   "id": "5d8f3e7fbe6175f6",
   "execution_count": 12
  },
  {
   "cell_type": "code",
   "outputs": [
    {
     "name": "stdout",
     "output_type": "stream",
     "text": [
      "95028-6611199\n"
     ]
    }
   ],
   "source": [
    "print(platinum)"
   ],
   "metadata": {
    "collapsed": false,
    "ExecuteTime": {
     "end_time": "2024-02-29T22:26:49.654765Z",
     "start_time": "2024-02-29T22:26:49.651265Z"
    }
   },
   "id": "aafbd1c36fec88b3",
   "execution_count": 83
  },
  {
   "cell_type": "code",
   "outputs": [],
   "source": [
    "new_transactions_df = new_transactions_df.rename(columns={\"Account Name\": \"Account Number\"})"
   ],
   "metadata": {
    "collapsed": false,
    "ExecuteTime": {
     "end_time": "2024-02-29T21:46:26.389325Z",
     "start_time": "2024-02-29T21:46:26.385825Z"
    }
   },
   "id": "7d9bd7d4e754301b",
   "execution_count": 25
  },
  {
   "cell_type": "code",
   "outputs": [],
   "source": [
    "account_name_to_number = {'Checking': chequing, 'Platinum Card': platinum, 'Silver Card': silver}"
   ],
   "metadata": {
    "collapsed": false,
    "ExecuteTime": {
     "end_time": "2024-02-29T21:46:27.468992Z",
     "start_time": "2024-02-29T21:46:27.465992Z"
    }
   },
   "id": "10b31283f97d719c",
   "execution_count": 26
  },
  {
   "cell_type": "code",
   "outputs": [],
   "source": [
    "new_transactions_df['Account Number'] = new_transactions_df['Account Number'].map(account_name_to_number)"
   ],
   "metadata": {
    "collapsed": false,
    "ExecuteTime": {
     "end_time": "2024-02-29T21:46:31.928021Z",
     "start_time": "2024-02-29T21:46:31.924021Z"
    }
   },
   "id": "9bbb4a8660dd8bcf",
   "execution_count": 27
  },
  {
   "cell_type": "code",
   "outputs": [
    {
     "data": {
      "text/plain": "         Date          Description   Amount Transaction Type  \\\n0  01/01/2018               Amazon    11.11            debit   \n1  01/02/2018     Mortgage Payment  1247.44            debit   \n2  01/02/2018      Thai Restaurant    24.22            debit   \n3  01/03/2018  Credit Card Payment  2298.09           credit   \n4  01/04/2018              Netflix    11.76            debit   \n\n              Category Account Number  \n0             Shopping  95028-6611199  \n1      Mortgage & Rent  95028-5949457  \n2          Restaurants  95028-1307804  \n3  Credit Card Payment  95028-6611199  \n4        Movies & DVDs  95028-6611199  ",
      "text/html": "<div>\n<style scoped>\n    .dataframe tbody tr th:only-of-type {\n        vertical-align: middle;\n    }\n\n    .dataframe tbody tr th {\n        vertical-align: top;\n    }\n\n    .dataframe thead th {\n        text-align: right;\n    }\n</style>\n<table border=\"1\" class=\"dataframe\">\n  <thead>\n    <tr style=\"text-align: right;\">\n      <th></th>\n      <th>Date</th>\n      <th>Description</th>\n      <th>Amount</th>\n      <th>Transaction Type</th>\n      <th>Category</th>\n      <th>Account Number</th>\n    </tr>\n  </thead>\n  <tbody>\n    <tr>\n      <th>0</th>\n      <td>01/01/2018</td>\n      <td>Amazon</td>\n      <td>11.11</td>\n      <td>debit</td>\n      <td>Shopping</td>\n      <td>95028-6611199</td>\n    </tr>\n    <tr>\n      <th>1</th>\n      <td>01/02/2018</td>\n      <td>Mortgage Payment</td>\n      <td>1247.44</td>\n      <td>debit</td>\n      <td>Mortgage &amp; Rent</td>\n      <td>95028-5949457</td>\n    </tr>\n    <tr>\n      <th>2</th>\n      <td>01/02/2018</td>\n      <td>Thai Restaurant</td>\n      <td>24.22</td>\n      <td>debit</td>\n      <td>Restaurants</td>\n      <td>95028-1307804</td>\n    </tr>\n    <tr>\n      <th>3</th>\n      <td>01/03/2018</td>\n      <td>Credit Card Payment</td>\n      <td>2298.09</td>\n      <td>credit</td>\n      <td>Credit Card Payment</td>\n      <td>95028-6611199</td>\n    </tr>\n    <tr>\n      <th>4</th>\n      <td>01/04/2018</td>\n      <td>Netflix</td>\n      <td>11.76</td>\n      <td>debit</td>\n      <td>Movies &amp; DVDs</td>\n      <td>95028-6611199</td>\n    </tr>\n  </tbody>\n</table>\n</div>"
     },
     "execution_count": 28,
     "metadata": {},
     "output_type": "execute_result"
    }
   ],
   "source": [
    "new_transactions_df.head()"
   ],
   "metadata": {
    "collapsed": false,
    "ExecuteTime": {
     "end_time": "2024-02-29T21:46:33.460702Z",
     "start_time": "2024-02-29T21:46:33.452200Z"
    }
   },
   "id": "ee1b33402b496b32",
   "execution_count": 28
  },
  {
   "cell_type": "code",
   "outputs": [],
   "source": [
    "credits = new_transactions_df[new_transactions_df['Transaction Type'] == 'credit']"
   ],
   "metadata": {
    "collapsed": false,
    "ExecuteTime": {
     "end_time": "2024-02-29T21:49:23.318462Z",
     "start_time": "2024-02-29T21:49:23.314461Z"
    }
   },
   "id": "70e0c09d3ce84440",
   "execution_count": 29
  },
  {
   "cell_type": "code",
   "outputs": [
    {
     "data": {
      "text/plain": "          Date          Description   Amount Transaction Type  \\\n3   01/03/2018  Credit Card Payment  2298.09           credit   \n13  01/12/2018    Biweekly Paycheck  2000.00           credit   \n20  01/19/2018    Biweekly Paycheck  2000.00           credit   \n22  01/22/2018  Credit Card Payment   554.99           credit   \n23  01/22/2018  Credit Card Payment   309.81           credit   \n\n               Category Account Number  \n3   Credit Card Payment  95028-6611199  \n13             Paycheck  95028-5949457  \n20             Paycheck  95028-5949457  \n22  Credit Card Payment  95028-6611199  \n23  Credit Card Payment  95028-1307804  ",
      "text/html": "<div>\n<style scoped>\n    .dataframe tbody tr th:only-of-type {\n        vertical-align: middle;\n    }\n\n    .dataframe tbody tr th {\n        vertical-align: top;\n    }\n\n    .dataframe thead th {\n        text-align: right;\n    }\n</style>\n<table border=\"1\" class=\"dataframe\">\n  <thead>\n    <tr style=\"text-align: right;\">\n      <th></th>\n      <th>Date</th>\n      <th>Description</th>\n      <th>Amount</th>\n      <th>Transaction Type</th>\n      <th>Category</th>\n      <th>Account Number</th>\n    </tr>\n  </thead>\n  <tbody>\n    <tr>\n      <th>3</th>\n      <td>01/03/2018</td>\n      <td>Credit Card Payment</td>\n      <td>2298.09</td>\n      <td>credit</td>\n      <td>Credit Card Payment</td>\n      <td>95028-6611199</td>\n    </tr>\n    <tr>\n      <th>13</th>\n      <td>01/12/2018</td>\n      <td>Biweekly Paycheck</td>\n      <td>2000.00</td>\n      <td>credit</td>\n      <td>Paycheck</td>\n      <td>95028-5949457</td>\n    </tr>\n    <tr>\n      <th>20</th>\n      <td>01/19/2018</td>\n      <td>Biweekly Paycheck</td>\n      <td>2000.00</td>\n      <td>credit</td>\n      <td>Paycheck</td>\n      <td>95028-5949457</td>\n    </tr>\n    <tr>\n      <th>22</th>\n      <td>01/22/2018</td>\n      <td>Credit Card Payment</td>\n      <td>554.99</td>\n      <td>credit</td>\n      <td>Credit Card Payment</td>\n      <td>95028-6611199</td>\n    </tr>\n    <tr>\n      <th>23</th>\n      <td>01/22/2018</td>\n      <td>Credit Card Payment</td>\n      <td>309.81</td>\n      <td>credit</td>\n      <td>Credit Card Payment</td>\n      <td>95028-1307804</td>\n    </tr>\n  </tbody>\n</table>\n</div>"
     },
     "execution_count": 37,
     "metadata": {},
     "output_type": "execute_result"
    }
   ],
   "source": [
    "credits.head()"
   ],
   "metadata": {
    "collapsed": false,
    "ExecuteTime": {
     "end_time": "2024-02-29T21:53:30.807796Z",
     "start_time": "2024-02-29T21:53:30.799795Z"
    }
   },
   "id": "e3731830e7d21483",
   "execution_count": 37
  },
  {
   "cell_type": "code",
   "outputs": [
    {
     "data": {
      "text/plain": "array(['Amazon', 'Mortgage Payment', 'Thai Restaurant',\n       'Credit Card Payment', 'Netflix', 'American Tavern',\n       'Hardware Store', 'Gas Company', 'Spotify', 'Phone Company',\n       'Shell', 'Grocery Store', 'Biweekly Paycheck', 'Pizza Place',\n       'City Water Charges', 'Power Company', 'Starbucks',\n       'Internet Service Provider', 'Brunch Restaurant',\n       'Japanese Restaurant', 'Barbershop', 'Bojangles',\n       'Fancy Restaurant', 'Brewing Company', 'Mexican Restaurant',\n       'Gas Station', 'BBQ Restaurant', 'BP', 'Mediterranean Restaurant',\n       'Steakhouse', 'Belgian Restaurant', \"Chili's\", 'Greek Restaurant',\n       'Amazon Video', 'Chevron', 'Tiny Deli', 'Irish Pub',\n       'Blue Sky Market', 'State Farm', 'QuikTrip',\n       \"Mike's Construction Co.\", 'Liquor Store', 'Movie Theater',\n       'Italian Restaurant', 'Chick-Fil-A', 'Go Mart', 'Circle K',\n       \"Wendy's\", 'Irish Restaurant', 'Conoco', 'Valero',\n       'Sushi Restaurant', 'Exxon', 'German Restaurant',\n       'Seafood Restaurant', 'Food Truck', 'Latin Restaurant',\n       'New York Deli', 'Roadside Diner', 'Bakery Place', 'Best Buy',\n       'Vietnamese Restaurant', 'Target', 'Hawaiian Grill', 'Sheetz'],\n      dtype=object)"
     },
     "execution_count": 36,
     "metadata": {},
     "output_type": "execute_result"
    }
   ],
   "source": [
    "new_transactions_df.Description.unique()"
   ],
   "metadata": {
    "collapsed": false,
    "ExecuteTime": {
     "end_time": "2024-02-29T21:51:53.495120Z",
     "start_time": "2024-02-29T21:51:53.490939Z"
    }
   },
   "id": "6322b61e532951bc",
   "execution_count": 36
  },
  {
   "cell_type": "code",
   "outputs": [
    {
     "data": {
      "text/plain": "array(['Credit Card Payment', 'Biweekly Paycheck'], dtype=object)"
     },
     "execution_count": 35,
     "metadata": {},
     "output_type": "execute_result"
    }
   ],
   "source": [
    "credits.Description.unique()"
   ],
   "metadata": {
    "collapsed": false,
    "ExecuteTime": {
     "end_time": "2024-02-29T21:51:40.278680Z",
     "start_time": "2024-02-29T21:51:40.274179Z"
    }
   },
   "id": "2c30f4c0ba264cd4",
   "execution_count": 35
  },
  {
   "cell_type": "code",
   "outputs": [],
   "source": [
    "credit_card_payments_df = new_transactions_df[new_transactions_df['Category'] == 'Credit Card Payment']"
   ],
   "metadata": {
    "collapsed": false,
    "ExecuteTime": {
     "end_time": "2024-02-29T21:56:30.646587Z",
     "start_time": "2024-02-29T21:56:30.642587Z"
    }
   },
   "id": "6071683c1dff2a24",
   "execution_count": 38
  },
  {
   "cell_type": "code",
   "outputs": [
    {
     "data": {
      "text/plain": "          Date          Description   Amount Transaction Type  \\\n3   01/03/2018  Credit Card Payment  2298.09           credit   \n22  01/22/2018  Credit Card Payment   554.99           credit   \n23  01/22/2018  Credit Card Payment   309.81           credit   \n24  01/22/2018  Credit Card Payment   554.99            debit   \n26  01/23/2018  Credit Card Payment   309.81            debit   \n38  02/05/2018  Credit Card Payment   145.14           credit   \n39  02/06/2018  Credit Card Payment   154.13           credit   \n40  02/07/2018  Credit Card Payment   154.13            debit   \n58  02/26/2018  Credit Card Payment   765.37           credit   \n59  02/26/2018  Credit Card Payment   156.11           credit   \n60  02/26/2018  Credit Card Payment   765.37            debit   \n64  02/27/2018  Credit Card Payment   156.11            debit   \n74  03/05/2018  Credit Card Payment   761.59           credit   \n75  03/05/2018  Credit Card Payment   761.59            debit   \n96  03/23/2018  Credit Card Payment   559.91           credit   \n\n               Category Account Number  \n3   Credit Card Payment  95028-6611199  \n22  Credit Card Payment  95028-6611199  \n23  Credit Card Payment  95028-1307804  \n24  Credit Card Payment  95028-5949457  \n26  Credit Card Payment  95028-5949457  \n38  Credit Card Payment  95028-6611199  \n39  Credit Card Payment  95028-1307804  \n40  Credit Card Payment  95028-5949457  \n58  Credit Card Payment  95028-6611199  \n59  Credit Card Payment  95028-1307804  \n60  Credit Card Payment  95028-5949457  \n64  Credit Card Payment  95028-5949457  \n74  Credit Card Payment  95028-1307804  \n75  Credit Card Payment  95028-5949457  \n96  Credit Card Payment  95028-6611199  ",
      "text/html": "<div>\n<style scoped>\n    .dataframe tbody tr th:only-of-type {\n        vertical-align: middle;\n    }\n\n    .dataframe tbody tr th {\n        vertical-align: top;\n    }\n\n    .dataframe thead th {\n        text-align: right;\n    }\n</style>\n<table border=\"1\" class=\"dataframe\">\n  <thead>\n    <tr style=\"text-align: right;\">\n      <th></th>\n      <th>Date</th>\n      <th>Description</th>\n      <th>Amount</th>\n      <th>Transaction Type</th>\n      <th>Category</th>\n      <th>Account Number</th>\n    </tr>\n  </thead>\n  <tbody>\n    <tr>\n      <th>3</th>\n      <td>01/03/2018</td>\n      <td>Credit Card Payment</td>\n      <td>2298.09</td>\n      <td>credit</td>\n      <td>Credit Card Payment</td>\n      <td>95028-6611199</td>\n    </tr>\n    <tr>\n      <th>22</th>\n      <td>01/22/2018</td>\n      <td>Credit Card Payment</td>\n      <td>554.99</td>\n      <td>credit</td>\n      <td>Credit Card Payment</td>\n      <td>95028-6611199</td>\n    </tr>\n    <tr>\n      <th>23</th>\n      <td>01/22/2018</td>\n      <td>Credit Card Payment</td>\n      <td>309.81</td>\n      <td>credit</td>\n      <td>Credit Card Payment</td>\n      <td>95028-1307804</td>\n    </tr>\n    <tr>\n      <th>24</th>\n      <td>01/22/2018</td>\n      <td>Credit Card Payment</td>\n      <td>554.99</td>\n      <td>debit</td>\n      <td>Credit Card Payment</td>\n      <td>95028-5949457</td>\n    </tr>\n    <tr>\n      <th>26</th>\n      <td>01/23/2018</td>\n      <td>Credit Card Payment</td>\n      <td>309.81</td>\n      <td>debit</td>\n      <td>Credit Card Payment</td>\n      <td>95028-5949457</td>\n    </tr>\n    <tr>\n      <th>38</th>\n      <td>02/05/2018</td>\n      <td>Credit Card Payment</td>\n      <td>145.14</td>\n      <td>credit</td>\n      <td>Credit Card Payment</td>\n      <td>95028-6611199</td>\n    </tr>\n    <tr>\n      <th>39</th>\n      <td>02/06/2018</td>\n      <td>Credit Card Payment</td>\n      <td>154.13</td>\n      <td>credit</td>\n      <td>Credit Card Payment</td>\n      <td>95028-1307804</td>\n    </tr>\n    <tr>\n      <th>40</th>\n      <td>02/07/2018</td>\n      <td>Credit Card Payment</td>\n      <td>154.13</td>\n      <td>debit</td>\n      <td>Credit Card Payment</td>\n      <td>95028-5949457</td>\n    </tr>\n    <tr>\n      <th>58</th>\n      <td>02/26/2018</td>\n      <td>Credit Card Payment</td>\n      <td>765.37</td>\n      <td>credit</td>\n      <td>Credit Card Payment</td>\n      <td>95028-6611199</td>\n    </tr>\n    <tr>\n      <th>59</th>\n      <td>02/26/2018</td>\n      <td>Credit Card Payment</td>\n      <td>156.11</td>\n      <td>credit</td>\n      <td>Credit Card Payment</td>\n      <td>95028-1307804</td>\n    </tr>\n    <tr>\n      <th>60</th>\n      <td>02/26/2018</td>\n      <td>Credit Card Payment</td>\n      <td>765.37</td>\n      <td>debit</td>\n      <td>Credit Card Payment</td>\n      <td>95028-5949457</td>\n    </tr>\n    <tr>\n      <th>64</th>\n      <td>02/27/2018</td>\n      <td>Credit Card Payment</td>\n      <td>156.11</td>\n      <td>debit</td>\n      <td>Credit Card Payment</td>\n      <td>95028-5949457</td>\n    </tr>\n    <tr>\n      <th>74</th>\n      <td>03/05/2018</td>\n      <td>Credit Card Payment</td>\n      <td>761.59</td>\n      <td>credit</td>\n      <td>Credit Card Payment</td>\n      <td>95028-1307804</td>\n    </tr>\n    <tr>\n      <th>75</th>\n      <td>03/05/2018</td>\n      <td>Credit Card Payment</td>\n      <td>761.59</td>\n      <td>debit</td>\n      <td>Credit Card Payment</td>\n      <td>95028-5949457</td>\n    </tr>\n    <tr>\n      <th>96</th>\n      <td>03/23/2018</td>\n      <td>Credit Card Payment</td>\n      <td>559.91</td>\n      <td>credit</td>\n      <td>Credit Card Payment</td>\n      <td>95028-6611199</td>\n    </tr>\n  </tbody>\n</table>\n</div>"
     },
     "execution_count": 42,
     "metadata": {},
     "output_type": "execute_result"
    }
   ],
   "source": [
    "credit_card_payments_df.head(n=15)"
   ],
   "metadata": {
    "collapsed": false,
    "ExecuteTime": {
     "end_time": "2024-02-29T21:57:32.634650Z",
     "start_time": "2024-02-29T21:57:32.626148Z"
    }
   },
   "id": "5b0362fb93b8cf47",
   "execution_count": 42
  },
  {
   "cell_type": "code",
   "outputs": [],
   "source": [
    "debits_df = credit_card_payments_df[credit_card_payments_df['Transaction Type'] == 'debit']"
   ],
   "metadata": {
    "collapsed": false,
    "ExecuteTime": {
     "end_time": "2024-02-29T22:02:51.173188Z",
     "start_time": "2024-02-29T22:02:51.169188Z"
    }
   },
   "id": "559ff4b7150610e2",
   "execution_count": 43
  },
  {
   "cell_type": "code",
   "outputs": [
    {
     "data": {
      "text/plain": "          Date          Description  Amount Transaction Type  \\\n24  01/22/2018  Credit Card Payment  554.99            debit   \n26  01/23/2018  Credit Card Payment  309.81            debit   \n40  02/07/2018  Credit Card Payment  154.13            debit   \n60  02/26/2018  Credit Card Payment  765.37            debit   \n64  02/27/2018  Credit Card Payment  156.11            debit   \n\n               Category Account Number  \n24  Credit Card Payment  95028-5949457  \n26  Credit Card Payment  95028-5949457  \n40  Credit Card Payment  95028-5949457  \n60  Credit Card Payment  95028-5949457  \n64  Credit Card Payment  95028-5949457  ",
      "text/html": "<div>\n<style scoped>\n    .dataframe tbody tr th:only-of-type {\n        vertical-align: middle;\n    }\n\n    .dataframe tbody tr th {\n        vertical-align: top;\n    }\n\n    .dataframe thead th {\n        text-align: right;\n    }\n</style>\n<table border=\"1\" class=\"dataframe\">\n  <thead>\n    <tr style=\"text-align: right;\">\n      <th></th>\n      <th>Date</th>\n      <th>Description</th>\n      <th>Amount</th>\n      <th>Transaction Type</th>\n      <th>Category</th>\n      <th>Account Number</th>\n    </tr>\n  </thead>\n  <tbody>\n    <tr>\n      <th>24</th>\n      <td>01/22/2018</td>\n      <td>Credit Card Payment</td>\n      <td>554.99</td>\n      <td>debit</td>\n      <td>Credit Card Payment</td>\n      <td>95028-5949457</td>\n    </tr>\n    <tr>\n      <th>26</th>\n      <td>01/23/2018</td>\n      <td>Credit Card Payment</td>\n      <td>309.81</td>\n      <td>debit</td>\n      <td>Credit Card Payment</td>\n      <td>95028-5949457</td>\n    </tr>\n    <tr>\n      <th>40</th>\n      <td>02/07/2018</td>\n      <td>Credit Card Payment</td>\n      <td>154.13</td>\n      <td>debit</td>\n      <td>Credit Card Payment</td>\n      <td>95028-5949457</td>\n    </tr>\n    <tr>\n      <th>60</th>\n      <td>02/26/2018</td>\n      <td>Credit Card Payment</td>\n      <td>765.37</td>\n      <td>debit</td>\n      <td>Credit Card Payment</td>\n      <td>95028-5949457</td>\n    </tr>\n    <tr>\n      <th>64</th>\n      <td>02/27/2018</td>\n      <td>Credit Card Payment</td>\n      <td>156.11</td>\n      <td>debit</td>\n      <td>Credit Card Payment</td>\n      <td>95028-5949457</td>\n    </tr>\n  </tbody>\n</table>\n</div>"
     },
     "execution_count": 44,
     "metadata": {},
     "output_type": "execute_result"
    }
   ],
   "source": [
    "debits_df.head()"
   ],
   "metadata": {
    "collapsed": false,
    "ExecuteTime": {
     "end_time": "2024-02-29T22:02:57.497804Z",
     "start_time": "2024-02-29T22:02:57.490303Z"
    }
   },
   "id": "e0c361939ce86452",
   "execution_count": 44
  },
  {
   "cell_type": "code",
   "outputs": [
    {
     "name": "stdout",
     "output_type": "stream",
     "text": [
      "<class 'pandas.core.frame.DataFrame'>\n",
      "Index: 71 entries, 24 to 798\n",
      "Data columns (total 6 columns):\n",
      " #   Column            Non-Null Count  Dtype  \n",
      "---  ------            --------------  -----  \n",
      " 0   Date              71 non-null     object \n",
      " 1   Description       71 non-null     object \n",
      " 2   Amount            71 non-null     float64\n",
      " 3   Transaction Type  71 non-null     object \n",
      " 4   Category          71 non-null     object \n",
      " 5   Account Number    71 non-null     object \n",
      "dtypes: float64(1), object(5)\n",
      "memory usage: 3.9+ KB\n"
     ]
    }
   ],
   "source": [
    "debits_df.info()"
   ],
   "metadata": {
    "collapsed": false,
    "ExecuteTime": {
     "end_time": "2024-02-29T22:03:10.402261Z",
     "start_time": "2024-02-29T22:03:10.396759Z"
    }
   },
   "id": "57ab1c158cfc59ff",
   "execution_count": 45
  },
  {
   "cell_type": "code",
   "outputs": [],
   "source": [
    "credits_df = credit_card_payments_df[credit_card_payments_df['Transaction Type'] == 'credit']"
   ],
   "metadata": {
    "collapsed": false,
    "ExecuteTime": {
     "end_time": "2024-02-29T22:03:47.365329Z",
     "start_time": "2024-02-29T22:03:47.361829Z"
    }
   },
   "id": "785a27f9f9b65686",
   "execution_count": 46
  },
  {
   "cell_type": "code",
   "outputs": [
    {
     "name": "stdout",
     "output_type": "stream",
     "text": [
      "<class 'pandas.core.frame.DataFrame'>\n",
      "Index: 72 entries, 3 to 796\n",
      "Data columns (total 6 columns):\n",
      " #   Column            Non-Null Count  Dtype  \n",
      "---  ------            --------------  -----  \n",
      " 0   Date              72 non-null     object \n",
      " 1   Description       72 non-null     object \n",
      " 2   Amount            72 non-null     float64\n",
      " 3   Transaction Type  72 non-null     object \n",
      " 4   Category          72 non-null     object \n",
      " 5   Account Number    72 non-null     object \n",
      "dtypes: float64(1), object(5)\n",
      "memory usage: 3.9+ KB\n"
     ]
    }
   ],
   "source": [
    "credits_df.info()"
   ],
   "metadata": {
    "collapsed": false,
    "ExecuteTime": {
     "end_time": "2024-02-29T22:03:53.814233Z",
     "start_time": "2024-02-29T22:03:53.807732Z"
    }
   },
   "id": "f4bb84a87b75380e",
   "execution_count": 47
  },
  {
   "cell_type": "code",
   "outputs": [],
   "source": [
    "debits_merged = debits_df.merge(credits_df, on='Amount', how='left', indicator=True)\n",
    "credits_merged = credits_df.merge(debits_df, on='Amount', how='left', indicator=True)"
   ],
   "metadata": {
    "collapsed": false,
    "ExecuteTime": {
     "end_time": "2024-02-29T22:25:58.320726Z",
     "start_time": "2024-02-29T22:25:58.309225Z"
    }
   },
   "id": "149d58ac842474d7",
   "execution_count": 75
  },
  {
   "cell_type": "code",
   "outputs": [],
   "source": [
    "credits = credits_merged[credits_merged['_merge'] != 'both']\n",
    "debits = debits_merged[debits_merged['_merge'] != 'both']"
   ],
   "metadata": {
    "collapsed": false,
    "ExecuteTime": {
     "end_time": "2024-02-29T22:25:58.666795Z",
     "start_time": "2024-02-29T22:25:58.661795Z"
    }
   },
   "id": "78f636fead14bf45",
   "execution_count": 76
  },
  {
   "cell_type": "code",
   "outputs": [],
   "source": [
    "credits = credits.drop(columns='_merge')\n",
    "debits = debits.drop(columns='_merge')"
   ],
   "metadata": {
    "collapsed": false,
    "ExecuteTime": {
     "end_time": "2024-02-29T22:25:59.215014Z",
     "start_time": "2024-02-29T22:25:59.211014Z"
    }
   },
   "id": "170efb99d3037d50",
   "execution_count": 77
  },
  {
   "cell_type": "code",
   "outputs": [],
   "source": [
    "credits = credits.dropna(axis=1)\n",
    "debits = debits.dropna(axis=1)"
   ],
   "metadata": {
    "collapsed": false,
    "ExecuteTime": {
     "end_time": "2024-02-29T22:25:59.653091Z",
     "start_time": "2024-02-29T22:25:59.648591Z"
    }
   },
   "id": "b86630486145ffeb",
   "execution_count": 78
  },
  {
   "cell_type": "code",
   "outputs": [
    {
     "name": "stdout",
     "output_type": "stream",
     "text": [
      "<class 'pandas.core.frame.DataFrame'>\n",
      "Index: 22 entries, 0 to 70\n",
      "Data columns (total 6 columns):\n",
      " #   Column              Non-Null Count  Dtype  \n",
      "---  ------              --------------  -----  \n",
      " 0   Date_x              22 non-null     object \n",
      " 1   Description_x       22 non-null     object \n",
      " 2   Amount              22 non-null     float64\n",
      " 3   Transaction Type_x  22 non-null     object \n",
      " 4   Category_x          22 non-null     object \n",
      " 5   Account Number_x    22 non-null     object \n",
      "dtypes: float64(1), object(5)\n",
      "memory usage: 1.2+ KB\n"
     ]
    }
   ],
   "source": [
    "credits.info()"
   ],
   "metadata": {
    "collapsed": false,
    "ExecuteTime": {
     "end_time": "2024-02-29T22:26:00.311906Z",
     "start_time": "2024-02-29T22:26:00.305405Z"
    }
   },
   "id": "e5a9ffc0c66b70ef",
   "execution_count": 79
  },
  {
   "cell_type": "code",
   "outputs": [
    {
     "data": {
      "text/plain": "        Date_x        Description_x   Amount Transaction Type_x  \\\n0   01/03/2018  Credit Card Payment  2298.09             credit   \n3   02/05/2018  Credit Card Payment   145.14             credit   \n14  05/19/2018  Credit Card Payment   207.08             credit   \n17  06/02/2018  Credit Card Payment   466.36             credit   \n25  08/02/2018  Credit Card Payment   816.27             credit   \n27  08/15/2018  Credit Card Payment   159.38             credit   \n31  09/14/2018  Credit Card Payment   134.34             credit   \n35  10/21/2018  Credit Card Payment   544.37             credit   \n38  11/20/2018  Credit Card Payment   421.96             credit   \n40  11/29/2018  Credit Card Payment   751.50             credit   \n43  12/29/2018  Credit Card Payment   860.05             credit   \n48  03/13/2019  Credit Card Payment   532.86             credit   \n50  03/31/2019  Credit Card Payment   957.60             credit   \n51  04/01/2019  Credit Card Payment   600.51             credit   \n53  04/18/2019  Credit Card Payment   458.10             credit   \n55  05/17/2019  Credit Card Payment   575.33             credit   \n57  06/03/2019  Credit Card Payment   260.95             credit   \n61  07/09/2019  Credit Card Payment   549.72             credit   \n62  07/19/2019  Credit Card Payment   115.52             credit   \n64  08/05/2019  Credit Card Payment   349.28             credit   \n66  08/17/2019  Credit Card Payment    87.17             credit   \n70  09/17/2019  Credit Card Payment   186.13             credit   \n\n             Category_x Account Number_x  \n0   Credit Card Payment    95028-6611199  \n3   Credit Card Payment    95028-6611199  \n14  Credit Card Payment    95028-6611199  \n17  Credit Card Payment    95028-6611199  \n25  Credit Card Payment    95028-6611199  \n27  Credit Card Payment    95028-6611199  \n31  Credit Card Payment    95028-6611199  \n35  Credit Card Payment    95028-6611199  \n38  Credit Card Payment    95028-6611199  \n40  Credit Card Payment    95028-6611199  \n43  Credit Card Payment    95028-6611199  \n48  Credit Card Payment    95028-6611199  \n50  Credit Card Payment    95028-6611199  \n51  Credit Card Payment    95028-6611199  \n53  Credit Card Payment    95028-6611199  \n55  Credit Card Payment    95028-6611199  \n57  Credit Card Payment    95028-6611199  \n61  Credit Card Payment    95028-6611199  \n62  Credit Card Payment    95028-6611199  \n64  Credit Card Payment    95028-6611199  \n66  Credit Card Payment    95028-6611199  \n70  Credit Card Payment    95028-6611199  ",
      "text/html": "<div>\n<style scoped>\n    .dataframe tbody tr th:only-of-type {\n        vertical-align: middle;\n    }\n\n    .dataframe tbody tr th {\n        vertical-align: top;\n    }\n\n    .dataframe thead th {\n        text-align: right;\n    }\n</style>\n<table border=\"1\" class=\"dataframe\">\n  <thead>\n    <tr style=\"text-align: right;\">\n      <th></th>\n      <th>Date_x</th>\n      <th>Description_x</th>\n      <th>Amount</th>\n      <th>Transaction Type_x</th>\n      <th>Category_x</th>\n      <th>Account Number_x</th>\n    </tr>\n  </thead>\n  <tbody>\n    <tr>\n      <th>0</th>\n      <td>01/03/2018</td>\n      <td>Credit Card Payment</td>\n      <td>2298.09</td>\n      <td>credit</td>\n      <td>Credit Card Payment</td>\n      <td>95028-6611199</td>\n    </tr>\n    <tr>\n      <th>3</th>\n      <td>02/05/2018</td>\n      <td>Credit Card Payment</td>\n      <td>145.14</td>\n      <td>credit</td>\n      <td>Credit Card Payment</td>\n      <td>95028-6611199</td>\n    </tr>\n    <tr>\n      <th>14</th>\n      <td>05/19/2018</td>\n      <td>Credit Card Payment</td>\n      <td>207.08</td>\n      <td>credit</td>\n      <td>Credit Card Payment</td>\n      <td>95028-6611199</td>\n    </tr>\n    <tr>\n      <th>17</th>\n      <td>06/02/2018</td>\n      <td>Credit Card Payment</td>\n      <td>466.36</td>\n      <td>credit</td>\n      <td>Credit Card Payment</td>\n      <td>95028-6611199</td>\n    </tr>\n    <tr>\n      <th>25</th>\n      <td>08/02/2018</td>\n      <td>Credit Card Payment</td>\n      <td>816.27</td>\n      <td>credit</td>\n      <td>Credit Card Payment</td>\n      <td>95028-6611199</td>\n    </tr>\n    <tr>\n      <th>27</th>\n      <td>08/15/2018</td>\n      <td>Credit Card Payment</td>\n      <td>159.38</td>\n      <td>credit</td>\n      <td>Credit Card Payment</td>\n      <td>95028-6611199</td>\n    </tr>\n    <tr>\n      <th>31</th>\n      <td>09/14/2018</td>\n      <td>Credit Card Payment</td>\n      <td>134.34</td>\n      <td>credit</td>\n      <td>Credit Card Payment</td>\n      <td>95028-6611199</td>\n    </tr>\n    <tr>\n      <th>35</th>\n      <td>10/21/2018</td>\n      <td>Credit Card Payment</td>\n      <td>544.37</td>\n      <td>credit</td>\n      <td>Credit Card Payment</td>\n      <td>95028-6611199</td>\n    </tr>\n    <tr>\n      <th>38</th>\n      <td>11/20/2018</td>\n      <td>Credit Card Payment</td>\n      <td>421.96</td>\n      <td>credit</td>\n      <td>Credit Card Payment</td>\n      <td>95028-6611199</td>\n    </tr>\n    <tr>\n      <th>40</th>\n      <td>11/29/2018</td>\n      <td>Credit Card Payment</td>\n      <td>751.50</td>\n      <td>credit</td>\n      <td>Credit Card Payment</td>\n      <td>95028-6611199</td>\n    </tr>\n    <tr>\n      <th>43</th>\n      <td>12/29/2018</td>\n      <td>Credit Card Payment</td>\n      <td>860.05</td>\n      <td>credit</td>\n      <td>Credit Card Payment</td>\n      <td>95028-6611199</td>\n    </tr>\n    <tr>\n      <th>48</th>\n      <td>03/13/2019</td>\n      <td>Credit Card Payment</td>\n      <td>532.86</td>\n      <td>credit</td>\n      <td>Credit Card Payment</td>\n      <td>95028-6611199</td>\n    </tr>\n    <tr>\n      <th>50</th>\n      <td>03/31/2019</td>\n      <td>Credit Card Payment</td>\n      <td>957.60</td>\n      <td>credit</td>\n      <td>Credit Card Payment</td>\n      <td>95028-6611199</td>\n    </tr>\n    <tr>\n      <th>51</th>\n      <td>04/01/2019</td>\n      <td>Credit Card Payment</td>\n      <td>600.51</td>\n      <td>credit</td>\n      <td>Credit Card Payment</td>\n      <td>95028-6611199</td>\n    </tr>\n    <tr>\n      <th>53</th>\n      <td>04/18/2019</td>\n      <td>Credit Card Payment</td>\n      <td>458.10</td>\n      <td>credit</td>\n      <td>Credit Card Payment</td>\n      <td>95028-6611199</td>\n    </tr>\n    <tr>\n      <th>55</th>\n      <td>05/17/2019</td>\n      <td>Credit Card Payment</td>\n      <td>575.33</td>\n      <td>credit</td>\n      <td>Credit Card Payment</td>\n      <td>95028-6611199</td>\n    </tr>\n    <tr>\n      <th>57</th>\n      <td>06/03/2019</td>\n      <td>Credit Card Payment</td>\n      <td>260.95</td>\n      <td>credit</td>\n      <td>Credit Card Payment</td>\n      <td>95028-6611199</td>\n    </tr>\n    <tr>\n      <th>61</th>\n      <td>07/09/2019</td>\n      <td>Credit Card Payment</td>\n      <td>549.72</td>\n      <td>credit</td>\n      <td>Credit Card Payment</td>\n      <td>95028-6611199</td>\n    </tr>\n    <tr>\n      <th>62</th>\n      <td>07/19/2019</td>\n      <td>Credit Card Payment</td>\n      <td>115.52</td>\n      <td>credit</td>\n      <td>Credit Card Payment</td>\n      <td>95028-6611199</td>\n    </tr>\n    <tr>\n      <th>64</th>\n      <td>08/05/2019</td>\n      <td>Credit Card Payment</td>\n      <td>349.28</td>\n      <td>credit</td>\n      <td>Credit Card Payment</td>\n      <td>95028-6611199</td>\n    </tr>\n    <tr>\n      <th>66</th>\n      <td>08/17/2019</td>\n      <td>Credit Card Payment</td>\n      <td>87.17</td>\n      <td>credit</td>\n      <td>Credit Card Payment</td>\n      <td>95028-6611199</td>\n    </tr>\n    <tr>\n      <th>70</th>\n      <td>09/17/2019</td>\n      <td>Credit Card Payment</td>\n      <td>186.13</td>\n      <td>credit</td>\n      <td>Credit Card Payment</td>\n      <td>95028-6611199</td>\n    </tr>\n  </tbody>\n</table>\n</div>"
     },
     "execution_count": 80,
     "metadata": {},
     "output_type": "execute_result"
    }
   ],
   "source": [
    "credits"
   ],
   "metadata": {
    "collapsed": false,
    "ExecuteTime": {
     "end_time": "2024-02-29T22:26:01.838435Z",
     "start_time": "2024-02-29T22:26:01.829433Z"
    }
   },
   "id": "4e9a7c4b23633b1e",
   "execution_count": 80
  },
  {
   "cell_type": "code",
   "outputs": [
    {
     "name": "stdout",
     "output_type": "stream",
     "text": [
      "<class 'pandas.core.frame.DataFrame'>\n",
      "Index: 21 entries, 33 to 69\n",
      "Data columns (total 6 columns):\n",
      " #   Column              Non-Null Count  Dtype  \n",
      "---  ------              --------------  -----  \n",
      " 0   Date_x              21 non-null     object \n",
      " 1   Description_x       21 non-null     object \n",
      " 2   Amount              21 non-null     float64\n",
      " 3   Transaction Type_x  21 non-null     object \n",
      " 4   Category_x          21 non-null     object \n",
      " 5   Account Number_x    21 non-null     object \n",
      "dtypes: float64(1), object(5)\n",
      "memory usage: 1.1+ KB\n"
     ]
    }
   ],
   "source": [
    "debits.info()"
   ],
   "metadata": {
    "collapsed": false,
    "ExecuteTime": {
     "end_time": "2024-02-29T22:26:02.888880Z",
     "start_time": "2024-02-29T22:26:02.882879Z"
    }
   },
   "id": "2719c7afc33c998c",
   "execution_count": 81
  },
  {
   "cell_type": "code",
   "outputs": [
    {
     "data": {
      "text/plain": "        Date_x        Description_x   Amount Transaction Type_x  \\\n33  01/02/2019  Credit Card Payment   499.60              debit   \n35  01/09/2019  Credit Card Payment   281.84              debit   \n37  01/31/2019  Credit Card Payment  1900.00              debit   \n38  02/11/2019  Credit Card Payment   133.95              debit   \n40  02/19/2019  Credit Card Payment   574.84              debit   \n42  03/06/2019  Credit Card Payment   491.86              debit   \n43  03/14/2019  Credit Card Payment   305.27              debit   \n45  04/01/2019  Credit Card Payment  1552.65              debit   \n46  04/09/2019  Credit Card Payment   436.75              debit   \n49  05/03/2019  Credit Card Payment   758.07              debit   \n50  05/13/2019  Credit Card Payment   480.88              debit   \n51  05/20/2019  Credit Card Payment   415.47              debit   \n53  06/07/2019  Credit Card Payment   458.56              debit   \n55  06/20/2019  Credit Card Payment   375.26              debit   \n57  07/08/2019  Credit Card Payment   305.28              debit   \n59  07/18/2019  Credit Card Payment   814.50              debit   \n61  08/06/2019  Credit Card Payment   521.17              debit   \n63  08/15/2019  Credit Card Payment   335.20              debit   \n64  08/19/2019  Credit Card Payment  1248.95              debit   \n66  09/06/2019  Credit Card Payment   502.75              debit   \n69  09/18/2019  Credit Card Payment  1606.46              debit   \n\n             Category_x Account Number_x  \n33  Credit Card Payment    95028-5949457  \n35  Credit Card Payment    95028-5949457  \n37  Credit Card Payment    95028-5949457  \n38  Credit Card Payment    95028-5949457  \n40  Credit Card Payment    95028-5949457  \n42  Credit Card Payment    95028-5949457  \n43  Credit Card Payment    95028-5949457  \n45  Credit Card Payment    95028-5949457  \n46  Credit Card Payment    95028-5949457  \n49  Credit Card Payment    95028-5949457  \n50  Credit Card Payment    95028-5949457  \n51  Credit Card Payment    95028-5949457  \n53  Credit Card Payment    95028-5949457  \n55  Credit Card Payment    95028-5949457  \n57  Credit Card Payment    95028-5949457  \n59  Credit Card Payment    95028-5949457  \n61  Credit Card Payment    95028-5949457  \n63  Credit Card Payment    95028-5949457  \n64  Credit Card Payment    95028-5949457  \n66  Credit Card Payment    95028-5949457  \n69  Credit Card Payment    95028-5949457  ",
      "text/html": "<div>\n<style scoped>\n    .dataframe tbody tr th:only-of-type {\n        vertical-align: middle;\n    }\n\n    .dataframe tbody tr th {\n        vertical-align: top;\n    }\n\n    .dataframe thead th {\n        text-align: right;\n    }\n</style>\n<table border=\"1\" class=\"dataframe\">\n  <thead>\n    <tr style=\"text-align: right;\">\n      <th></th>\n      <th>Date_x</th>\n      <th>Description_x</th>\n      <th>Amount</th>\n      <th>Transaction Type_x</th>\n      <th>Category_x</th>\n      <th>Account Number_x</th>\n    </tr>\n  </thead>\n  <tbody>\n    <tr>\n      <th>33</th>\n      <td>01/02/2019</td>\n      <td>Credit Card Payment</td>\n      <td>499.60</td>\n      <td>debit</td>\n      <td>Credit Card Payment</td>\n      <td>95028-5949457</td>\n    </tr>\n    <tr>\n      <th>35</th>\n      <td>01/09/2019</td>\n      <td>Credit Card Payment</td>\n      <td>281.84</td>\n      <td>debit</td>\n      <td>Credit Card Payment</td>\n      <td>95028-5949457</td>\n    </tr>\n    <tr>\n      <th>37</th>\n      <td>01/31/2019</td>\n      <td>Credit Card Payment</td>\n      <td>1900.00</td>\n      <td>debit</td>\n      <td>Credit Card Payment</td>\n      <td>95028-5949457</td>\n    </tr>\n    <tr>\n      <th>38</th>\n      <td>02/11/2019</td>\n      <td>Credit Card Payment</td>\n      <td>133.95</td>\n      <td>debit</td>\n      <td>Credit Card Payment</td>\n      <td>95028-5949457</td>\n    </tr>\n    <tr>\n      <th>40</th>\n      <td>02/19/2019</td>\n      <td>Credit Card Payment</td>\n      <td>574.84</td>\n      <td>debit</td>\n      <td>Credit Card Payment</td>\n      <td>95028-5949457</td>\n    </tr>\n    <tr>\n      <th>42</th>\n      <td>03/06/2019</td>\n      <td>Credit Card Payment</td>\n      <td>491.86</td>\n      <td>debit</td>\n      <td>Credit Card Payment</td>\n      <td>95028-5949457</td>\n    </tr>\n    <tr>\n      <th>43</th>\n      <td>03/14/2019</td>\n      <td>Credit Card Payment</td>\n      <td>305.27</td>\n      <td>debit</td>\n      <td>Credit Card Payment</td>\n      <td>95028-5949457</td>\n    </tr>\n    <tr>\n      <th>45</th>\n      <td>04/01/2019</td>\n      <td>Credit Card Payment</td>\n      <td>1552.65</td>\n      <td>debit</td>\n      <td>Credit Card Payment</td>\n      <td>95028-5949457</td>\n    </tr>\n    <tr>\n      <th>46</th>\n      <td>04/09/2019</td>\n      <td>Credit Card Payment</td>\n      <td>436.75</td>\n      <td>debit</td>\n      <td>Credit Card Payment</td>\n      <td>95028-5949457</td>\n    </tr>\n    <tr>\n      <th>49</th>\n      <td>05/03/2019</td>\n      <td>Credit Card Payment</td>\n      <td>758.07</td>\n      <td>debit</td>\n      <td>Credit Card Payment</td>\n      <td>95028-5949457</td>\n    </tr>\n    <tr>\n      <th>50</th>\n      <td>05/13/2019</td>\n      <td>Credit Card Payment</td>\n      <td>480.88</td>\n      <td>debit</td>\n      <td>Credit Card Payment</td>\n      <td>95028-5949457</td>\n    </tr>\n    <tr>\n      <th>51</th>\n      <td>05/20/2019</td>\n      <td>Credit Card Payment</td>\n      <td>415.47</td>\n      <td>debit</td>\n      <td>Credit Card Payment</td>\n      <td>95028-5949457</td>\n    </tr>\n    <tr>\n      <th>53</th>\n      <td>06/07/2019</td>\n      <td>Credit Card Payment</td>\n      <td>458.56</td>\n      <td>debit</td>\n      <td>Credit Card Payment</td>\n      <td>95028-5949457</td>\n    </tr>\n    <tr>\n      <th>55</th>\n      <td>06/20/2019</td>\n      <td>Credit Card Payment</td>\n      <td>375.26</td>\n      <td>debit</td>\n      <td>Credit Card Payment</td>\n      <td>95028-5949457</td>\n    </tr>\n    <tr>\n      <th>57</th>\n      <td>07/08/2019</td>\n      <td>Credit Card Payment</td>\n      <td>305.28</td>\n      <td>debit</td>\n      <td>Credit Card Payment</td>\n      <td>95028-5949457</td>\n    </tr>\n    <tr>\n      <th>59</th>\n      <td>07/18/2019</td>\n      <td>Credit Card Payment</td>\n      <td>814.50</td>\n      <td>debit</td>\n      <td>Credit Card Payment</td>\n      <td>95028-5949457</td>\n    </tr>\n    <tr>\n      <th>61</th>\n      <td>08/06/2019</td>\n      <td>Credit Card Payment</td>\n      <td>521.17</td>\n      <td>debit</td>\n      <td>Credit Card Payment</td>\n      <td>95028-5949457</td>\n    </tr>\n    <tr>\n      <th>63</th>\n      <td>08/15/2019</td>\n      <td>Credit Card Payment</td>\n      <td>335.20</td>\n      <td>debit</td>\n      <td>Credit Card Payment</td>\n      <td>95028-5949457</td>\n    </tr>\n    <tr>\n      <th>64</th>\n      <td>08/19/2019</td>\n      <td>Credit Card Payment</td>\n      <td>1248.95</td>\n      <td>debit</td>\n      <td>Credit Card Payment</td>\n      <td>95028-5949457</td>\n    </tr>\n    <tr>\n      <th>66</th>\n      <td>09/06/2019</td>\n      <td>Credit Card Payment</td>\n      <td>502.75</td>\n      <td>debit</td>\n      <td>Credit Card Payment</td>\n      <td>95028-5949457</td>\n    </tr>\n    <tr>\n      <th>69</th>\n      <td>09/18/2019</td>\n      <td>Credit Card Payment</td>\n      <td>1606.46</td>\n      <td>debit</td>\n      <td>Credit Card Payment</td>\n      <td>95028-5949457</td>\n    </tr>\n  </tbody>\n</table>\n</div>"
     },
     "execution_count": 82,
     "metadata": {},
     "output_type": "execute_result"
    }
   ],
   "source": [
    "debits"
   ],
   "metadata": {
    "collapsed": false,
    "ExecuteTime": {
     "end_time": "2024-02-29T22:26:03.739265Z",
     "start_time": "2024-02-29T22:26:03.727262Z"
    }
   },
   "id": "230a594001ced670",
   "execution_count": 82
  },
  {
   "cell_type": "code",
   "outputs": [],
   "source": [
    "temp = new_transactions_df[new_transactions_df['Account Number'] == silver]"
   ],
   "metadata": {
    "collapsed": false,
    "ExecuteTime": {
     "end_time": "2024-02-29T22:28:46.601629Z",
     "start_time": "2024-02-29T22:28:46.597628Z"
    }
   },
   "id": "4ed562e0a75e6e2",
   "execution_count": 89
  },
  {
   "cell_type": "code",
   "outputs": [
    {
     "data": {
      "text/plain": "           Date          Description  Amount Transaction Type  \\\n2    01/02/2018      Thai Restaurant   24.22            debit   \n5    01/05/2018      American Tavern   25.85            debit   \n6    01/06/2018       Hardware Store   18.45            debit   \n8    01/08/2018       Hardware Store   15.38            debit   \n16   01/15/2018        Grocery Store   44.19            debit   \n..          ...                  ...     ...              ...   \n776  09/09/2019        Grocery Store   65.09            debit   \n777  09/09/2019       Hardware Store   26.25            debit   \n780  09/11/2019  Credit Card Payment  360.56           credit   \n788  09/16/2019  Credit Card Payment   90.57           credit   \n796  09/20/2019  Credit Card Payment    9.43           credit   \n\n                Category Account Number  \n2            Restaurants  95028-1307804  \n5            Restaurants  95028-1307804  \n6       Home Improvement  95028-1307804  \n8       Home Improvement  95028-1307804  \n16             Groceries  95028-1307804  \n..                   ...            ...  \n776            Groceries  95028-1307804  \n777     Home Improvement  95028-1307804  \n780  Credit Card Payment  95028-1307804  \n788  Credit Card Payment  95028-1307804  \n796  Credit Card Payment  95028-1307804  \n\n[176 rows x 6 columns]",
      "text/html": "<div>\n<style scoped>\n    .dataframe tbody tr th:only-of-type {\n        vertical-align: middle;\n    }\n\n    .dataframe tbody tr th {\n        vertical-align: top;\n    }\n\n    .dataframe thead th {\n        text-align: right;\n    }\n</style>\n<table border=\"1\" class=\"dataframe\">\n  <thead>\n    <tr style=\"text-align: right;\">\n      <th></th>\n      <th>Date</th>\n      <th>Description</th>\n      <th>Amount</th>\n      <th>Transaction Type</th>\n      <th>Category</th>\n      <th>Account Number</th>\n    </tr>\n  </thead>\n  <tbody>\n    <tr>\n      <th>2</th>\n      <td>01/02/2018</td>\n      <td>Thai Restaurant</td>\n      <td>24.22</td>\n      <td>debit</td>\n      <td>Restaurants</td>\n      <td>95028-1307804</td>\n    </tr>\n    <tr>\n      <th>5</th>\n      <td>01/05/2018</td>\n      <td>American Tavern</td>\n      <td>25.85</td>\n      <td>debit</td>\n      <td>Restaurants</td>\n      <td>95028-1307804</td>\n    </tr>\n    <tr>\n      <th>6</th>\n      <td>01/06/2018</td>\n      <td>Hardware Store</td>\n      <td>18.45</td>\n      <td>debit</td>\n      <td>Home Improvement</td>\n      <td>95028-1307804</td>\n    </tr>\n    <tr>\n      <th>8</th>\n      <td>01/08/2018</td>\n      <td>Hardware Store</td>\n      <td>15.38</td>\n      <td>debit</td>\n      <td>Home Improvement</td>\n      <td>95028-1307804</td>\n    </tr>\n    <tr>\n      <th>16</th>\n      <td>01/15/2018</td>\n      <td>Grocery Store</td>\n      <td>44.19</td>\n      <td>debit</td>\n      <td>Groceries</td>\n      <td>95028-1307804</td>\n    </tr>\n    <tr>\n      <th>...</th>\n      <td>...</td>\n      <td>...</td>\n      <td>...</td>\n      <td>...</td>\n      <td>...</td>\n      <td>...</td>\n    </tr>\n    <tr>\n      <th>776</th>\n      <td>09/09/2019</td>\n      <td>Grocery Store</td>\n      <td>65.09</td>\n      <td>debit</td>\n      <td>Groceries</td>\n      <td>95028-1307804</td>\n    </tr>\n    <tr>\n      <th>777</th>\n      <td>09/09/2019</td>\n      <td>Hardware Store</td>\n      <td>26.25</td>\n      <td>debit</td>\n      <td>Home Improvement</td>\n      <td>95028-1307804</td>\n    </tr>\n    <tr>\n      <th>780</th>\n      <td>09/11/2019</td>\n      <td>Credit Card Payment</td>\n      <td>360.56</td>\n      <td>credit</td>\n      <td>Credit Card Payment</td>\n      <td>95028-1307804</td>\n    </tr>\n    <tr>\n      <th>788</th>\n      <td>09/16/2019</td>\n      <td>Credit Card Payment</td>\n      <td>90.57</td>\n      <td>credit</td>\n      <td>Credit Card Payment</td>\n      <td>95028-1307804</td>\n    </tr>\n    <tr>\n      <th>796</th>\n      <td>09/20/2019</td>\n      <td>Credit Card Payment</td>\n      <td>9.43</td>\n      <td>credit</td>\n      <td>Credit Card Payment</td>\n      <td>95028-1307804</td>\n    </tr>\n  </tbody>\n</table>\n<p>176 rows × 6 columns</p>\n</div>"
     },
     "execution_count": 90,
     "metadata": {},
     "output_type": "execute_result"
    }
   ],
   "source": [
    "temp"
   ],
   "metadata": {
    "collapsed": false,
    "ExecuteTime": {
     "end_time": "2024-02-29T22:28:47.122225Z",
     "start_time": "2024-02-29T22:28:47.113223Z"
    }
   },
   "id": "e9171bb2bf2f60b2",
   "execution_count": 90
  },
  {
   "cell_type": "code",
   "outputs": [],
   "source": [
    "new_transactions_df.to_excel('transactions.xlsx')"
   ],
   "metadata": {
    "collapsed": false,
    "ExecuteTime": {
     "end_time": "2024-02-29T22:33:24.353245Z",
     "start_time": "2024-02-29T22:33:24.012184Z"
    }
   },
   "id": "f369f129596ec3bf",
   "execution_count": 92
  },
  {
   "cell_type": "code",
   "outputs": [],
   "source": [],
   "metadata": {
    "collapsed": false
   },
   "id": "b15eb234956b6404"
  }
 ],
 "metadata": {
  "kernelspec": {
   "display_name": "Python 3",
   "language": "python",
   "name": "python3"
  },
  "language_info": {
   "codemirror_mode": {
    "name": "ipython",
    "version": 2
   },
   "file_extension": ".py",
   "mimetype": "text/x-python",
   "name": "python",
   "nbconvert_exporter": "python",
   "pygments_lexer": "ipython2",
   "version": "2.7.6"
  }
 },
 "nbformat": 4,
 "nbformat_minor": 5
}
