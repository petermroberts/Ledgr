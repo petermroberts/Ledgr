{
 "cells": [
  {
   "cell_type": "markdown",
   "source": [
    "# Sample Data"
   ],
   "metadata": {
    "collapsed": false
   },
   "id": "2565d3a4725fc570"
  },
  {
   "cell_type": "markdown",
   "source": [
    "In this notebook we will be creating a fake person with their accounts to have a template for generating financial information"
   ],
   "metadata": {
    "collapsed": false
   },
   "id": "ae214a937bb1a0d"
  },
  {
   "cell_type": "code",
   "execution_count": 1,
   "id": "initial_id",
   "metadata": {
    "collapsed": true,
    "ExecuteTime": {
     "end_time": "2024-03-03T18:57:10.577418Z",
     "start_time": "2024-03-03T18:57:09.938230Z"
    }
   },
   "outputs": [],
   "source": [
    "import pandas as pd\n",
    "import numpy as np\n",
    "from faker import Faker\n",
    "from faker.providers import BaseProvider, DynamicProvider"
   ]
  },
  {
   "cell_type": "code",
   "outputs": [],
   "source": [
    "fake = Faker()"
   ],
   "metadata": {
    "collapsed": false,
    "ExecuteTime": {
     "end_time": "2024-03-03T19:11:02.553699Z",
     "start_time": "2024-03-03T19:11:02.463315Z"
    }
   },
   "id": "291860b5402ff2ae",
   "execution_count": 2
  },
  {
   "cell_type": "markdown",
   "source": [
    "## Types of tranactions\n",
    "First we will make a list of transactions that can occur for an individual"
   ],
   "metadata": {
    "collapsed": false
   },
   "id": "e0425c81fe643507"
  },
  {
   "cell_type": "code",
   "outputs": [],
   "source": [
    "class TransactionProvider(BaseProvider):\n",
    "    entertainment_elements: ElementsType[str] = [\n",
    "        \"Music\", \"Movies & TV\", \"Newspaper\", \"Magazines\"\n",
    "    ]\n",
    "    \n",
    "    shopping_elements: ElementsType[str] = [\n",
    "        \"Clothes\", \"Books\", \"Electronics\", \"Hobbies\", \"Sporting goods\"\n",
    "    ]"
   ],
   "metadata": {
    "collapsed": false
   },
   "id": "e7dd5a8c06e4c6be"
  },
  {
   "cell_type": "code",
   "outputs": [],
   "source": [
    "AccountTypeProvider = DynamicProvider(\n",
    "    provider_name=\"AccountType\",\n",
    "    elements=[\"Chequing\", \"Savings\", \"Credit\", \"Loan\"]\n",
    ")"
   ],
   "metadata": {
    "collapsed": false,
    "ExecuteTime": {
     "end_time": "2024-03-03T19:16:12.699099Z",
     "start_time": "2024-03-03T19:16:12.695599Z"
    }
   },
   "id": "164ff7bcf48de76b",
   "execution_count": 3
  },
  {
   "cell_type": "code",
   "outputs": [],
   "source": [
    "fake.add_provider(AccountTypeProvider)"
   ],
   "metadata": {
    "collapsed": false,
    "ExecuteTime": {
     "end_time": "2024-03-03T19:16:26.286048Z",
     "start_time": "2024-03-03T19:16:26.282547Z"
    }
   },
   "id": "f816d6688ad0e507",
   "execution_count": 4
  },
  {
   "cell_type": "code",
   "outputs": [],
   "source": [
    "class BankAccount:\n",
    "    account_number: str\n",
    "    balance: float\n",
    "    account_holder: str\n",
    "    account_type: str\n",
    "    interest_rate: float\n",
    "    transactions: list\n",
    "    \n",
    "    def __init__(self, account_holder: str, balance: float = 0):\n",
    "        self.account_number = fake.numerify(\"#####-#######\")\n",
    "        self.balance = balance\n",
    "        self.account_holder = account_holder\n",
    "        self.account_type = fake.AccountType()\n",
    "        self.interest_rate = fake.random_()\n",
    "        "
   ],
   "metadata": {
    "collapsed": false
   },
   "id": "cece49c5f677e771"
  },
  {
   "cell_type": "code",
   "outputs": [],
   "source": [
    "class BankClientProvider(BaseProvider):\n",
    "    pass"
   ],
   "metadata": {
    "collapsed": false
   },
   "id": "bba6a22f29ceb3eb"
  }
 ],
 "metadata": {
  "kernelspec": {
   "display_name": "Python 3",
   "language": "python",
   "name": "python3"
  },
  "language_info": {
   "codemirror_mode": {
    "name": "ipython",
    "version": 2
   },
   "file_extension": ".py",
   "mimetype": "text/x-python",
   "name": "python",
   "nbconvert_exporter": "python",
   "pygments_lexer": "ipython2",
   "version": "2.7.6"
  }
 },
 "nbformat": 4,
 "nbformat_minor": 5
}
