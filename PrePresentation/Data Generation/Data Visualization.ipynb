{
 "cells": [
  {
   "cell_type": "markdown",
   "source": [],
   "metadata": {
    "collapsed": false
   },
   "id": "66c3df7ed2fc23"
  },
  {
   "cell_type": "code",
   "outputs": [],
   "source": [
    "import pandas as pd\n",
    "import numpy as np\n",
    "import matplotlib.pyplot as plt\n",
    "import datetime"
   ],
   "metadata": {
    "collapsed": false,
    "ExecuteTime": {
     "end_time": "2024-03-03T21:11:15.086032Z",
     "start_time": "2024-03-03T21:11:15.082532Z"
    }
   },
   "id": "ac6250d9b975a535",
   "execution_count": 7
  },
  {
   "cell_type": "code",
   "outputs": [],
   "source": [
    "Transactions = pd.read_csv('../data/Output.csv')"
   ],
   "metadata": {
    "collapsed": false,
    "ExecuteTime": {
     "end_time": "2024-03-03T21:07:49.657688Z",
     "start_time": "2024-03-03T21:07:49.633171Z"
    }
   },
   "id": "47e56664dc22a973",
   "execution_count": 3
  },
  {
   "cell_type": "code",
   "outputs": [
    {
     "data": {
      "text/plain": "           Date                Description   Amount TransactionType  \\\n0    01/01/2018                     Amazon    11.11           debit   \n1    01/02/2018           Mortgage Payment  1247.44           debit   \n2    01/02/2018            Thai Restaurant    24.22           debit   \n3    01/04/2018                    Netflix    11.76           debit   \n4    01/05/2018            American Tavern    25.85           debit   \n..          ...                        ...      ...             ...   \n758  09/27/2019          Biweekly Paycheck  2250.00          credit   \n759  09/28/2019                         BP    33.46           debit   \n760  09/28/2019                     Sheetz     4.27           debit   \n761  09/30/2019                  Starbucks     1.75           debit   \n762  09/30/2019  Internet Service Provider    75.00           debit   \n\n            Category  AccountNumber  \n0           Shopping  95028-6611199  \n1    Mortgage & Rent  95028-5949457  \n2        Restaurants  95028-1307804  \n3      Movies & DVDs  95028-6611199  \n4        Restaurants  95028-1307804  \n..               ...            ...  \n758         Paycheck  95028-5949457  \n759       Gas & Fuel  95028-6611199  \n760       Gas & Fuel  95028-6611199  \n761     Coffee Shops  95028-6611199  \n762         Internet  95028-5949457  \n\n[763 rows x 6 columns]",
      "text/html": "<div>\n<style scoped>\n    .dataframe tbody tr th:only-of-type {\n        vertical-align: middle;\n    }\n\n    .dataframe tbody tr th {\n        vertical-align: top;\n    }\n\n    .dataframe thead th {\n        text-align: right;\n    }\n</style>\n<table border=\"1\" class=\"dataframe\">\n  <thead>\n    <tr style=\"text-align: right;\">\n      <th></th>\n      <th>Date</th>\n      <th>Description</th>\n      <th>Amount</th>\n      <th>TransactionType</th>\n      <th>Category</th>\n      <th>AccountNumber</th>\n    </tr>\n  </thead>\n  <tbody>\n    <tr>\n      <th>0</th>\n      <td>01/01/2018</td>\n      <td>Amazon</td>\n      <td>11.11</td>\n      <td>debit</td>\n      <td>Shopping</td>\n      <td>95028-6611199</td>\n    </tr>\n    <tr>\n      <th>1</th>\n      <td>01/02/2018</td>\n      <td>Mortgage Payment</td>\n      <td>1247.44</td>\n      <td>debit</td>\n      <td>Mortgage &amp; Rent</td>\n      <td>95028-5949457</td>\n    </tr>\n    <tr>\n      <th>2</th>\n      <td>01/02/2018</td>\n      <td>Thai Restaurant</td>\n      <td>24.22</td>\n      <td>debit</td>\n      <td>Restaurants</td>\n      <td>95028-1307804</td>\n    </tr>\n    <tr>\n      <th>3</th>\n      <td>01/04/2018</td>\n      <td>Netflix</td>\n      <td>11.76</td>\n      <td>debit</td>\n      <td>Movies &amp; DVDs</td>\n      <td>95028-6611199</td>\n    </tr>\n    <tr>\n      <th>4</th>\n      <td>01/05/2018</td>\n      <td>American Tavern</td>\n      <td>25.85</td>\n      <td>debit</td>\n      <td>Restaurants</td>\n      <td>95028-1307804</td>\n    </tr>\n    <tr>\n      <th>...</th>\n      <td>...</td>\n      <td>...</td>\n      <td>...</td>\n      <td>...</td>\n      <td>...</td>\n      <td>...</td>\n    </tr>\n    <tr>\n      <th>758</th>\n      <td>09/27/2019</td>\n      <td>Biweekly Paycheck</td>\n      <td>2250.00</td>\n      <td>credit</td>\n      <td>Paycheck</td>\n      <td>95028-5949457</td>\n    </tr>\n    <tr>\n      <th>759</th>\n      <td>09/28/2019</td>\n      <td>BP</td>\n      <td>33.46</td>\n      <td>debit</td>\n      <td>Gas &amp; Fuel</td>\n      <td>95028-6611199</td>\n    </tr>\n    <tr>\n      <th>760</th>\n      <td>09/28/2019</td>\n      <td>Sheetz</td>\n      <td>4.27</td>\n      <td>debit</td>\n      <td>Gas &amp; Fuel</td>\n      <td>95028-6611199</td>\n    </tr>\n    <tr>\n      <th>761</th>\n      <td>09/30/2019</td>\n      <td>Starbucks</td>\n      <td>1.75</td>\n      <td>debit</td>\n      <td>Coffee Shops</td>\n      <td>95028-6611199</td>\n    </tr>\n    <tr>\n      <th>762</th>\n      <td>09/30/2019</td>\n      <td>Internet Service Provider</td>\n      <td>75.00</td>\n      <td>debit</td>\n      <td>Internet</td>\n      <td>95028-5949457</td>\n    </tr>\n  </tbody>\n</table>\n<p>763 rows × 6 columns</p>\n</div>"
     },
     "execution_count": 4,
     "metadata": {},
     "output_type": "execute_result"
    }
   ],
   "source": [
    "Transactions"
   ],
   "metadata": {
    "collapsed": false,
    "ExecuteTime": {
     "end_time": "2024-03-03T21:07:54.831241Z",
     "start_time": "2024-03-03T21:07:54.814738Z"
    }
   },
   "id": "491ce3d81743d05c",
   "execution_count": 4
  },
  {
   "cell_type": "code",
   "outputs": [
    {
     "name": "stdout",
     "output_type": "stream",
     "text": [
      "<class 'pandas.core.frame.DataFrame'>\n",
      "RangeIndex: 763 entries, 0 to 762\n",
      "Data columns (total 6 columns):\n",
      " #   Column           Non-Null Count  Dtype  \n",
      "---  ------           --------------  -----  \n",
      " 0   Date             763 non-null    object \n",
      " 1   Description      763 non-null    object \n",
      " 2   Amount           763 non-null    float64\n",
      " 3   TransactionType  763 non-null    object \n",
      " 4   Category         763 non-null    object \n",
      " 5   AccountNumber    763 non-null    object \n",
      "dtypes: float64(1), object(5)\n",
      "memory usage: 35.9+ KB\n"
     ]
    }
   ],
   "source": [
    "Transactions.info()"
   ],
   "metadata": {
    "collapsed": false,
    "ExecuteTime": {
     "end_time": "2024-03-03T21:10:39.902561Z",
     "start_time": "2024-03-03T21:10:39.895560Z"
    }
   },
   "id": "8ef7f45824f45e34",
   "execution_count": 5
  },
  {
   "cell_type": "code",
   "outputs": [
    {
     "data": {
      "text/plain": "'01/01/2018'"
     },
     "execution_count": 6,
     "metadata": {},
     "output_type": "execute_result"
    }
   ],
   "source": [
    "Transactions['Date'][0]"
   ],
   "metadata": {
    "collapsed": false,
    "ExecuteTime": {
     "end_time": "2024-03-03T21:11:02.521274Z",
     "start_time": "2024-03-03T21:11:02.516773Z"
    }
   },
   "id": "6627320b817887c9",
   "execution_count": 6
  },
  {
   "cell_type": "code",
   "outputs": [
    {
     "name": "stdout",
     "output_type": "stream",
     "text": [
      "2018-01-01\n"
     ]
    }
   ],
   "source": [
    "print(datetime.date(2018,1, 1))"
   ],
   "metadata": {
    "collapsed": false,
    "ExecuteTime": {
     "end_time": "2024-03-03T21:13:27.002680Z",
     "start_time": "2024-03-03T21:13:26.999180Z"
    }
   },
   "id": "fde6241bff0f9c49",
   "execution_count": 10
  },
  {
   "cell_type": "code",
   "outputs": [],
   "source": [],
   "metadata": {
    "collapsed": false
   },
   "id": "bbf034f5b66f4d55"
  }
 ],
 "metadata": {
  "kernelspec": {
   "display_name": "Python 3",
   "language": "python",
   "name": "python3"
  },
  "language_info": {
   "codemirror_mode": {
    "name": "ipython",
    "version": 2
   },
   "file_extension": ".py",
   "mimetype": "text/x-python",
   "name": "python",
   "nbconvert_exporter": "python",
   "pygments_lexer": "ipython2",
   "version": "2.7.6"
  }
 },
 "nbformat": 4,
 "nbformat_minor": 5
}
