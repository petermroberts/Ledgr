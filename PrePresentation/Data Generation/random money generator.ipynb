{
 "cells": [
  {
   "cell_type": "code",
   "execution_count": 4,
   "id": "initial_id",
   "metadata": {
    "collapsed": true,
    "ExecuteTime": {
     "end_time": "2024-03-25T19:15:05.320331Z",
     "start_time": "2024-03-25T19:15:05.316831Z"
    }
   },
   "outputs": [],
   "source": [
    "import random"
   ]
  },
  {
   "cell_type": "markdown",
   "source": [
    "## This section will generate a random amount for a wage based job\n",
    "\n",
    "Given a range of hours and a pay rate, return amount of money for pay day"
   ],
   "metadata": {
    "collapsed": false
   },
   "id": "7f6498c469f9ba05"
  },
  {
   "cell_type": "code",
   "outputs": [],
   "source": [
    "def payday(wage: int = 15.25, minHours: float = 3, maxHours: float = 48):\n",
    "    week1 = wage * random.uniform(minHours, maxHours)\n",
    "    week2 = wage * random.uniform(minHours, maxHours)\n",
    "    return week1 + week2"
   ],
   "metadata": {
    "collapsed": false,
    "ExecuteTime": {
     "end_time": "2024-03-25T19:21:16.201300Z",
     "start_time": "2024-03-25T19:21:16.197299Z"
    }
   },
   "id": "86e43fcf7ce917c0",
   "execution_count": 18
  },
  {
   "cell_type": "markdown",
   "source": [
    "### Jan-Mar"
   ],
   "metadata": {
    "collapsed": false
   },
   "id": "82a72f50c525769c"
  },
  {
   "cell_type": "code",
   "outputs": [],
   "source": [
    "dates = [\"Jan 6\", \"Jan 20\", \"Feb 3\", \"Feb 17\", \"Mar 3\", \"Mar 17\", \"Mar 31\"]\n",
    "paylist = []\n",
    "\n",
    "# Jan 6\n",
    "paylist.append(payday(minHours=7, maxHours=14))\n",
    "# Jan 20\n",
    "paylist.append(payday(minHours=7, maxHours=14))\n",
    "# Feb 3\n",
    "paylist.append(payday(minHours=7, maxHours=14))\n",
    "# Feb 17\n",
    "paylist.append(payday(minHours=4, maxHours=6))\n",
    "# Mar 3\n",
    "paylist.append(payday(minHours=4, maxHours=6))\n",
    "# Mar 17\n",
    "paylist.append(payday(minHours=4, maxHours=6))\n",
    "# Mar 31\n",
    "paylist.append(payday(minHours=4, maxHours=5))"
   ],
   "metadata": {
    "collapsed": false,
    "ExecuteTime": {
     "end_time": "2024-03-25T19:21:16.612798Z",
     "start_time": "2024-03-25T19:21:16.608797Z"
    }
   },
   "id": "c192e8f9f1eaa9a",
   "execution_count": 19
  },
  {
   "cell_type": "code",
   "outputs": [
    {
     "name": "stdout",
     "output_type": "stream",
     "text": [
      "Jan 6: 254.54\n",
      "Jan 20: 354.48\n",
      "Feb 3: 320.41\n",
      "Feb 17: 167.42\n",
      "Mar 3: 170.47\n",
      "Mar 17: 131.22\n",
      "Mar 31: 145.17\n"
     ]
    }
   ],
   "source": [
    "for i, amount in enumerate(paylist):\n",
    "    print(f\"{dates[i]}: {amount:.2f}\")"
   ],
   "metadata": {
    "collapsed": false,
    "ExecuteTime": {
     "end_time": "2024-03-25T19:21:17.048795Z",
     "start_time": "2024-03-25T19:21:17.045794Z"
    }
   },
   "id": "83d78c6022c0b0e7",
   "execution_count": 20
  },
  {
   "cell_type": "markdown",
   "source": [
    "### Apr-Jun"
   ],
   "metadata": {
    "collapsed": false
   },
   "id": "4c9d310f5deca224"
  },
  {
   "cell_type": "code",
   "outputs": [],
   "source": [
    "dates = [\"Apr 14\", \"Apr 28\", \"May 12\", \"May 26\", \"Jun 9\", \"Jun 23\"]\n",
    "paylist = []\n",
    "\n",
    "# Apr 14\n",
    "paylist.append(payday(minHours=7, maxHours=14))\n",
    "# Apr 28\n",
    "paylist.append(payday(minHours=10, maxHours=19))\n",
    "# May 12\n",
    "paylist.append(payday(minHours=10, maxHours=19))\n",
    "# May 26\n",
    "paylist.append(payday(minHours=12, maxHours=22))\n",
    "# Jun 9\n",
    "paylist.append(payday(minHours=12, maxHours=22))\n",
    "# Jun 23\n",
    "paylist.append(payday(minHours=15, maxHours=30))"
   ],
   "metadata": {
    "collapsed": false,
    "ExecuteTime": {
     "end_time": "2024-03-25T19:27:56.668786Z",
     "start_time": "2024-03-25T19:27:56.664785Z"
    }
   },
   "id": "4b14b50a12d61c72",
   "execution_count": 21
  },
  {
   "cell_type": "code",
   "outputs": [
    {
     "name": "stdout",
     "output_type": "stream",
     "text": [
      "Apr 14: 252.85\n",
      "Apr 28: 467.27\n",
      "May 12: 408.92\n",
      "May 26: 600.82\n",
      "Jun 9: 557.52\n",
      "Jun 23: 763.99\n"
     ]
    }
   ],
   "source": [
    "for i, amount in enumerate(paylist):\n",
    "    print(f\"{dates[i]}: {amount:.2f}\")"
   ],
   "metadata": {
    "collapsed": false,
    "ExecuteTime": {
     "end_time": "2024-03-25T19:28:02.513610Z",
     "start_time": "2024-03-25T19:28:02.510111Z"
    }
   },
   "id": "84295966d637ce6b",
   "execution_count": 22
  },
  {
   "cell_type": "code",
   "outputs": [],
   "source": [],
   "metadata": {
    "collapsed": false
   },
   "id": "4e07cf8d0adb441"
  }
 ],
 "metadata": {
  "kernelspec": {
   "display_name": "Python 3",
   "language": "python",
   "name": "python3"
  },
  "language_info": {
   "codemirror_mode": {
    "name": "ipython",
    "version": 2
   },
   "file_extension": ".py",
   "mimetype": "text/x-python",
   "name": "python",
   "nbconvert_exporter": "python",
   "pygments_lexer": "ipython2",
   "version": "2.7.6"
  }
 },
 "nbformat": 4,
 "nbformat_minor": 5
}
