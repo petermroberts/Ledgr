{
 "cells": [
  {
   "cell_type": "code",
   "execution_count": 1,
   "id": "initial_id",
   "metadata": {
    "collapsed": true,
    "ExecuteTime": {
     "end_time": "2024-03-03T19:19:15.610396Z",
     "start_time": "2024-03-03T19:19:15.013792Z"
    }
   },
   "outputs": [],
   "source": [
    "import pandas as pd\n",
    "import numpy as np\n",
    "from faker import Faker"
   ]
  },
  {
   "cell_type": "code",
   "outputs": [],
   "source": [
    "fake = Faker()"
   ],
   "metadata": {
    "collapsed": false,
    "ExecuteTime": {
     "end_time": "2024-03-03T19:19:19.196747Z",
     "start_time": "2024-03-03T19:19:19.114732Z"
    }
   },
   "id": "f6e22438f751676f",
   "execution_count": 2
  },
  {
   "cell_type": "code",
   "outputs": [],
   "source": [
    "Transactions = pd.read_csv('../data/Output.csv')"
   ],
   "metadata": {
    "collapsed": false,
    "ExecuteTime": {
     "end_time": "2024-03-03T19:19:57.063623Z",
     "start_time": "2024-03-03T19:19:57.058123Z"
    }
   },
   "id": "5d98dc5ae8696d3f",
   "execution_count": 4
  },
  {
   "cell_type": "code",
   "outputs": [
    {
     "data": {
      "text/plain": "           Date                Description   Amount Transaction Type  \\\n0    01/01/2018                     Amazon    11.11            debit   \n1    01/02/2018           Mortgage Payment  1247.44            debit   \n2    01/02/2018            Thai Restaurant    24.22            debit   \n3    01/04/2018                    Netflix    11.76            debit   \n4    01/05/2018            American Tavern    25.85            debit   \n..          ...                        ...      ...              ...   \n758  09/27/2019          Biweekly Paycheck  2250.00           credit   \n759  09/28/2019                         BP    33.46            debit   \n760  09/28/2019                     Sheetz     4.27            debit   \n761  09/30/2019                  Starbucks     1.75            debit   \n762  09/30/2019  Internet Service Provider    75.00            debit   \n\n            Category Account Number  \n0           Shopping  95028-6611199  \n1    Mortgage & Rent  95028-5949457  \n2        Restaurants  95028-1307804  \n3      Movies & DVDs  95028-6611199  \n4        Restaurants  95028-1307804  \n..               ...            ...  \n758         Paycheck  95028-5949457  \n759       Gas & Fuel  95028-6611199  \n760       Gas & Fuel  95028-6611199  \n761     Coffee Shops  95028-6611199  \n762         Internet  95028-5949457  \n\n[763 rows x 6 columns]",
      "text/html": "<div>\n<style scoped>\n    .dataframe tbody tr th:only-of-type {\n        vertical-align: middle;\n    }\n\n    .dataframe tbody tr th {\n        vertical-align: top;\n    }\n\n    .dataframe thead th {\n        text-align: right;\n    }\n</style>\n<table border=\"1\" class=\"dataframe\">\n  <thead>\n    <tr style=\"text-align: right;\">\n      <th></th>\n      <th>Date</th>\n      <th>Description</th>\n      <th>Amount</th>\n      <th>Transaction Type</th>\n      <th>Category</th>\n      <th>Account Number</th>\n    </tr>\n  </thead>\n  <tbody>\n    <tr>\n      <th>0</th>\n      <td>01/01/2018</td>\n      <td>Amazon</td>\n      <td>11.11</td>\n      <td>debit</td>\n      <td>Shopping</td>\n      <td>95028-6611199</td>\n    </tr>\n    <tr>\n      <th>1</th>\n      <td>01/02/2018</td>\n      <td>Mortgage Payment</td>\n      <td>1247.44</td>\n      <td>debit</td>\n      <td>Mortgage &amp; Rent</td>\n      <td>95028-5949457</td>\n    </tr>\n    <tr>\n      <th>2</th>\n      <td>01/02/2018</td>\n      <td>Thai Restaurant</td>\n      <td>24.22</td>\n      <td>debit</td>\n      <td>Restaurants</td>\n      <td>95028-1307804</td>\n    </tr>\n    <tr>\n      <th>3</th>\n      <td>01/04/2018</td>\n      <td>Netflix</td>\n      <td>11.76</td>\n      <td>debit</td>\n      <td>Movies &amp; DVDs</td>\n      <td>95028-6611199</td>\n    </tr>\n    <tr>\n      <th>4</th>\n      <td>01/05/2018</td>\n      <td>American Tavern</td>\n      <td>25.85</td>\n      <td>debit</td>\n      <td>Restaurants</td>\n      <td>95028-1307804</td>\n    </tr>\n    <tr>\n      <th>...</th>\n      <td>...</td>\n      <td>...</td>\n      <td>...</td>\n      <td>...</td>\n      <td>...</td>\n      <td>...</td>\n    </tr>\n    <tr>\n      <th>758</th>\n      <td>09/27/2019</td>\n      <td>Biweekly Paycheck</td>\n      <td>2250.00</td>\n      <td>credit</td>\n      <td>Paycheck</td>\n      <td>95028-5949457</td>\n    </tr>\n    <tr>\n      <th>759</th>\n      <td>09/28/2019</td>\n      <td>BP</td>\n      <td>33.46</td>\n      <td>debit</td>\n      <td>Gas &amp; Fuel</td>\n      <td>95028-6611199</td>\n    </tr>\n    <tr>\n      <th>760</th>\n      <td>09/28/2019</td>\n      <td>Sheetz</td>\n      <td>4.27</td>\n      <td>debit</td>\n      <td>Gas &amp; Fuel</td>\n      <td>95028-6611199</td>\n    </tr>\n    <tr>\n      <th>761</th>\n      <td>09/30/2019</td>\n      <td>Starbucks</td>\n      <td>1.75</td>\n      <td>debit</td>\n      <td>Coffee Shops</td>\n      <td>95028-6611199</td>\n    </tr>\n    <tr>\n      <th>762</th>\n      <td>09/30/2019</td>\n      <td>Internet Service Provider</td>\n      <td>75.00</td>\n      <td>debit</td>\n      <td>Internet</td>\n      <td>95028-5949457</td>\n    </tr>\n  </tbody>\n</table>\n<p>763 rows × 6 columns</p>\n</div>"
     },
     "execution_count": 11,
     "metadata": {},
     "output_type": "execute_result"
    }
   ],
   "source": [
    "Transactions"
   ],
   "metadata": {
    "collapsed": false,
    "ExecuteTime": {
     "end_time": "2024-03-03T19:29:15.867929Z",
     "start_time": "2024-03-03T19:29:15.856926Z"
    }
   },
   "id": "78c2012ccc3fbe38",
   "execution_count": 11
  },
  {
   "cell_type": "code",
   "outputs": [],
   "source": [
    "AccountBalances = pd.DataFrame(columns=Transactions['Account Number'].unique())"
   ],
   "metadata": {
    "collapsed": false,
    "ExecuteTime": {
     "end_time": "2024-03-03T19:23:25.292435Z",
     "start_time": "2024-03-03T19:23:25.288435Z"
    }
   },
   "id": "d4e1f71789a538d2",
   "execution_count": 7
  },
  {
   "cell_type": "code",
   "outputs": [
    {
     "data": {
      "text/plain": "Empty DataFrame\nColumns: [95028-6611199, 95028-5949457, 95028-1307804]\nIndex: []",
      "text/html": "<div>\n<style scoped>\n    .dataframe tbody tr th:only-of-type {\n        vertical-align: middle;\n    }\n\n    .dataframe tbody tr th {\n        vertical-align: top;\n    }\n\n    .dataframe thead th {\n        text-align: right;\n    }\n</style>\n<table border=\"1\" class=\"dataframe\">\n  <thead>\n    <tr style=\"text-align: right;\">\n      <th></th>\n      <th>95028-6611199</th>\n      <th>95028-5949457</th>\n      <th>95028-1307804</th>\n    </tr>\n  </thead>\n  <tbody>\n  </tbody>\n</table>\n</div>"
     },
     "execution_count": 8,
     "metadata": {},
     "output_type": "execute_result"
    }
   ],
   "source": [
    "AccountBalances.head()"
   ],
   "metadata": {
    "collapsed": false,
    "ExecuteTime": {
     "end_time": "2024-03-03T19:23:29.893146Z",
     "start_time": "2024-03-03T19:23:29.887145Z"
    }
   },
   "id": "a9aa94993049fe68",
   "execution_count": 8
  },
  {
   "cell_type": "code",
   "outputs": [],
   "source": [
    "account_1 = 100000\n",
    "account_2 = 100000\n",
    "account_3 = 100000"
   ],
   "metadata": {
    "collapsed": false,
    "ExecuteTime": {
     "end_time": "2024-03-03T19:24:51.650481Z",
     "start_time": "2024-03-03T19:24:51.647482Z"
    }
   },
   "id": "59c9fca0ee663264",
   "execution_count": 10
  }
 ],
 "metadata": {
  "kernelspec": {
   "display_name": "Python 3",
   "language": "python",
   "name": "python3"
  },
  "language_info": {
   "codemirror_mode": {
    "name": "ipython",
    "version": 2
   },
   "file_extension": ".py",
   "mimetype": "text/x-python",
   "name": "python",
   "nbconvert_exporter": "python",
   "pygments_lexer": "ipython2",
   "version": "2.7.6"
  }
 },
 "nbformat": 4,
 "nbformat_minor": 5
}
