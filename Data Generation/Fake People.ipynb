{
 "cells": [
  {
   "cell_type": "markdown",
   "source": [
    "# Fake People\n",
    "In this notebook, we'll generate random people with random jobs.\n",
    "The goal is to create recurring transactions"
   ],
   "metadata": {
    "collapsed": false
   },
   "id": "3af4035556d4045d"
  },
  {
   "cell_type": "code",
   "execution_count": 11,
   "id": "initial_id",
   "metadata": {
    "collapsed": true,
    "ExecuteTime": {
     "end_time": "2024-03-03T19:57:08.518626Z",
     "start_time": "2024-03-03T19:57:08.515625Z"
    }
   },
   "outputs": [],
   "source": [
    "import pandas as pd\n",
    "import numpy as np\n",
    "from dateutil.relativedelta import relativedelta\n",
    "from faker import Faker\n",
    "from faker.providers import BaseProvider, DynamicProvider\n",
    "import datetime"
   ]
  },
  {
   "cell_type": "code",
   "outputs": [],
   "source": [
    "fake = Faker()"
   ],
   "metadata": {
    "collapsed": false,
    "ExecuteTime": {
     "end_time": "2024-03-03T19:36:55.450258Z",
     "start_time": "2024-03-03T19:36:55.364243Z"
    }
   },
   "id": "5385ef93f91306f3",
   "execution_count": 2
  },
  {
   "cell_type": "markdown",
   "source": [
    "## Create person class"
   ],
   "metadata": {
    "collapsed": false
   },
   "id": "2d99e1e9d5383406"
  },
  {
   "cell_type": "code",
   "outputs": [],
   "source": [
    "class Person:\n",
    "    firstName: str\n",
    "    lastName: str\n",
    "    birthday: str\n",
    "    gender: str\n",
    "    job: str\n",
    "    salary: float\n",
    "    \n",
    "    def __init__(self, gender='Not Specified', job=None):\n",
    "        \n",
    "        if gender == 'Not Specified':\n",
    "            self.firstName = fake.first_name_nonbinary()\n",
    "        elif gender == 'Male':\n",
    "            self.firstName = fake.first_name_male()\n",
    "        elif gender == 'Female':\n",
    "            self.firstName = fake.first_name_female()\n",
    "            \n",
    "        self.lastName = fake.last_name()\n",
    "        self.birthday = fake.date_of_birth(minimum_age=16, maximum_age=80)\n",
    "        \n",
    "        if job is None:\n",
    "            self.job = fake.job()\n",
    "        else:\n",
    "            self.job = job\n",
    "            \n",
    "        self.salary = fake.pyfloat(right_digits=2, positive=True, min_value=400, max_value=30000)"
   ],
   "metadata": {
    "collapsed": false,
    "ExecuteTime": {
     "end_time": "2024-03-03T19:52:38.915272Z",
     "start_time": "2024-03-03T19:52:38.910271Z"
    }
   },
   "id": "7a2e25cf6dff679e",
   "execution_count": 3
  },
  {
   "cell_type": "code",
   "outputs": [],
   "source": [
    "person = Person(gender='Male')"
   ],
   "metadata": {
    "collapsed": false,
    "ExecuteTime": {
     "end_time": "2024-03-03T19:53:07.788960Z",
     "start_time": "2024-03-03T19:53:07.785459Z"
    }
   },
   "id": "c2208d4211594f1",
   "execution_count": 4
  },
  {
   "cell_type": "markdown",
   "source": [
    "## Create recurring income"
   ],
   "metadata": {
    "collapsed": false
   },
   "id": "40632e2cd45e7060"
  },
  {
   "cell_type": "code",
   "outputs": [],
   "source": [
    "hire_date = fake.date_between(start_date='-5y', end_date='-1y')"
   ],
   "metadata": {
    "collapsed": false,
    "ExecuteTime": {
     "end_time": "2024-03-03T19:55:51.049557Z",
     "start_time": "2024-03-03T19:55:51.046557Z"
    }
   },
   "id": "af24cb24754a2be7",
   "execution_count": 9
  },
  {
   "cell_type": "code",
   "outputs": [
    {
     "data": {
      "text/plain": "datetime.date(2021, 5, 4)"
     },
     "execution_count": 10,
     "metadata": {},
     "output_type": "execute_result"
    }
   ],
   "source": [
    "hire_date"
   ],
   "metadata": {
    "collapsed": false,
    "ExecuteTime": {
     "end_time": "2024-03-03T19:55:57.160601Z",
     "start_time": "2024-03-03T19:55:57.157100Z"
    }
   },
   "id": "344ec7d388f6b66b",
   "execution_count": 10
  },
  {
   "cell_type": "code",
   "outputs": [],
   "source": [
    "end_date = datetime.date.today()"
   ],
   "metadata": {
    "collapsed": false,
    "ExecuteTime": {
     "end_time": "2024-03-03T19:57:11.726791Z",
     "start_time": "2024-03-03T19:57:11.724291Z"
    }
   },
   "id": "fa3a1f7f70dba63b",
   "execution_count": 12
  },
  {
   "cell_type": "code",
   "outputs": [],
   "source": [
    "delta = datetime.timedelta(days=14)"
   ],
   "metadata": {
    "collapsed": false,
    "ExecuteTime": {
     "end_time": "2024-03-03T19:57:30.199872Z",
     "start_time": "2024-03-03T19:57:30.196872Z"
    }
   },
   "id": "450a3c99a0f48c13",
   "execution_count": 13
  },
  {
   "cell_type": "code",
   "outputs": [],
   "source": [
    "salary_df = pd.DataFrame(columns=['Date', 'Description', 'Amount', 'Transaction Type', 'Category', 'Account Number'])"
   ],
   "metadata": {
    "collapsed": false,
    "ExecuteTime": {
     "end_time": "2024-03-03T20:04:42.182865Z",
     "start_time": "2024-03-03T20:04:42.179364Z"
    }
   },
   "id": "a2e31f373a953f3e",
   "execution_count": 16
  },
  {
   "cell_type": "code",
   "outputs": [],
   "source": [
    "current_date = hire_date\n",
    "\n",
    "while current_date <= end_date:\n",
    "    new_row = {'Date': current_date, 'Description': 'Salary', 'Amount': person.salary, 'Transaction Type': 'credit', 'Category': 'Salary', 'Account Number': '12345-1234567'}\n",
    "    salary_df.loc[len(salary_df)] = new_row\n",
    "    current_date += delta"
   ],
   "metadata": {
    "collapsed": false,
    "ExecuteTime": {
     "end_time": "2024-03-03T20:04:52.755025Z",
     "start_time": "2024-03-03T20:04:52.702516Z"
    }
   },
   "id": "b5a0e41fafa73e90",
   "execution_count": 17
  },
  {
   "cell_type": "code",
   "outputs": [
    {
     "data": {
      "text/plain": "          Date Description  Amount Transaction Type Category Account Number\n0   2021-05-04      Salary  977.17           credit   Salary  12345-1234567\n1   2021-05-18      Salary  977.17           credit   Salary  12345-1234567\n2   2021-06-01      Salary  977.17           credit   Salary  12345-1234567\n3   2021-06-15      Salary  977.17           credit   Salary  12345-1234567\n4   2021-06-29      Salary  977.17           credit   Salary  12345-1234567\n..         ...         ...     ...              ...      ...            ...\n69  2023-12-26      Salary  977.17           credit   Salary  12345-1234567\n70  2024-01-09      Salary  977.17           credit   Salary  12345-1234567\n71  2024-01-23      Salary  977.17           credit   Salary  12345-1234567\n72  2024-02-06      Salary  977.17           credit   Salary  12345-1234567\n73  2024-02-20      Salary  977.17           credit   Salary  12345-1234567\n\n[74 rows x 6 columns]",
      "text/html": "<div>\n<style scoped>\n    .dataframe tbody tr th:only-of-type {\n        vertical-align: middle;\n    }\n\n    .dataframe tbody tr th {\n        vertical-align: top;\n    }\n\n    .dataframe thead th {\n        text-align: right;\n    }\n</style>\n<table border=\"1\" class=\"dataframe\">\n  <thead>\n    <tr style=\"text-align: right;\">\n      <th></th>\n      <th>Date</th>\n      <th>Description</th>\n      <th>Amount</th>\n      <th>Transaction Type</th>\n      <th>Category</th>\n      <th>Account Number</th>\n    </tr>\n  </thead>\n  <tbody>\n    <tr>\n      <th>0</th>\n      <td>2021-05-04</td>\n      <td>Salary</td>\n      <td>977.17</td>\n      <td>credit</td>\n      <td>Salary</td>\n      <td>12345-1234567</td>\n    </tr>\n    <tr>\n      <th>1</th>\n      <td>2021-05-18</td>\n      <td>Salary</td>\n      <td>977.17</td>\n      <td>credit</td>\n      <td>Salary</td>\n      <td>12345-1234567</td>\n    </tr>\n    <tr>\n      <th>2</th>\n      <td>2021-06-01</td>\n      <td>Salary</td>\n      <td>977.17</td>\n      <td>credit</td>\n      <td>Salary</td>\n      <td>12345-1234567</td>\n    </tr>\n    <tr>\n      <th>3</th>\n      <td>2021-06-15</td>\n      <td>Salary</td>\n      <td>977.17</td>\n      <td>credit</td>\n      <td>Salary</td>\n      <td>12345-1234567</td>\n    </tr>\n    <tr>\n      <th>4</th>\n      <td>2021-06-29</td>\n      <td>Salary</td>\n      <td>977.17</td>\n      <td>credit</td>\n      <td>Salary</td>\n      <td>12345-1234567</td>\n    </tr>\n    <tr>\n      <th>...</th>\n      <td>...</td>\n      <td>...</td>\n      <td>...</td>\n      <td>...</td>\n      <td>...</td>\n      <td>...</td>\n    </tr>\n    <tr>\n      <th>69</th>\n      <td>2023-12-26</td>\n      <td>Salary</td>\n      <td>977.17</td>\n      <td>credit</td>\n      <td>Salary</td>\n      <td>12345-1234567</td>\n    </tr>\n    <tr>\n      <th>70</th>\n      <td>2024-01-09</td>\n      <td>Salary</td>\n      <td>977.17</td>\n      <td>credit</td>\n      <td>Salary</td>\n      <td>12345-1234567</td>\n    </tr>\n    <tr>\n      <th>71</th>\n      <td>2024-01-23</td>\n      <td>Salary</td>\n      <td>977.17</td>\n      <td>credit</td>\n      <td>Salary</td>\n      <td>12345-1234567</td>\n    </tr>\n    <tr>\n      <th>72</th>\n      <td>2024-02-06</td>\n      <td>Salary</td>\n      <td>977.17</td>\n      <td>credit</td>\n      <td>Salary</td>\n      <td>12345-1234567</td>\n    </tr>\n    <tr>\n      <th>73</th>\n      <td>2024-02-20</td>\n      <td>Salary</td>\n      <td>977.17</td>\n      <td>credit</td>\n      <td>Salary</td>\n      <td>12345-1234567</td>\n    </tr>\n  </tbody>\n</table>\n<p>74 rows × 6 columns</p>\n</div>"
     },
     "execution_count": 18,
     "metadata": {},
     "output_type": "execute_result"
    }
   ],
   "source": [
    "salary_df"
   ],
   "metadata": {
    "collapsed": false,
    "ExecuteTime": {
     "end_time": "2024-03-03T20:05:00.077846Z",
     "start_time": "2024-03-03T20:05:00.067344Z"
    }
   },
   "id": "a0c47e4ee7d9d6ab",
   "execution_count": 18
  },
  {
   "cell_type": "code",
   "outputs": [],
   "source": [
    "account_balance = salary_df['Amount'].sum()"
   ],
   "metadata": {
    "collapsed": false,
    "ExecuteTime": {
     "end_time": "2024-03-03T20:05:25.903717Z",
     "start_time": "2024-03-03T20:05:25.900716Z"
    }
   },
   "id": "2a12a5302817f834",
   "execution_count": 19
  },
  {
   "cell_type": "code",
   "outputs": [
    {
     "data": {
      "text/plain": "72310.57999999999"
     },
     "execution_count": 20,
     "metadata": {},
     "output_type": "execute_result"
    }
   ],
   "source": [
    "account_balance"
   ],
   "metadata": {
    "collapsed": false,
    "ExecuteTime": {
     "end_time": "2024-03-03T20:05:28.364714Z",
     "start_time": "2024-03-03T20:05:28.361213Z"
    }
   },
   "id": "64ceaffa8b9f2c2b",
   "execution_count": 20
  },
  {
   "cell_type": "code",
   "outputs": [],
   "source": [],
   "metadata": {
    "collapsed": false
   },
   "id": "b37b667f590c9845"
  }
 ],
 "metadata": {
  "kernelspec": {
   "display_name": "Python 3",
   "language": "python",
   "name": "python3"
  },
  "language_info": {
   "codemirror_mode": {
    "name": "ipython",
    "version": 2
   },
   "file_extension": ".py",
   "mimetype": "text/x-python",
   "name": "python",
   "nbconvert_exporter": "python",
   "pygments_lexer": "ipython2",
   "version": "2.7.6"
  }
 },
 "nbformat": 4,
 "nbformat_minor": 5
}
