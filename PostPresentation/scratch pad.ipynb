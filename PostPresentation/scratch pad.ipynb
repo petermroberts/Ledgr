{
 "cells": [
  {
   "cell_type": "markdown",
   "source": [
    "# Grid search rewrite"
   ],
   "metadata": {
    "collapsed": false
   },
   "id": "f82247740ab51b26"
  },
  {
   "cell_type": "code",
   "outputs": [],
   "source": [
    "import itertools\n",
    "import numpy as np\n",
    "import statsmodels.api as sm\n",
    "import pandas as pd\n",
    "\n",
    "from joblib import Parallel, cpu_count, delayed\n",
    "from warnings import catch_warnings, filterwarnings\n",
    "from sklearn.metrics import mean_squared_error"
   ],
   "metadata": {
    "collapsed": false,
    "ExecuteTime": {
     "end_time": "2024-04-11T23:15:59.089415Z",
     "start_time": "2024-04-11T23:15:58.551220Z"
    }
   },
   "id": "2004605b36efe50b",
   "execution_count": 2
  },
  {
   "cell_type": "code",
   "execution_count": 3,
   "id": "initial_id",
   "metadata": {
    "collapsed": true,
    "ExecuteTime": {
     "end_time": "2024-04-11T23:16:01.150925Z",
     "start_time": "2024-04-11T23:16:01.146423Z"
    }
   },
   "outputs": [],
   "source": [
    "# create a set of sarima configs to try\n",
    "def sarima_configs():\n",
    "    models = list()\n",
    "    # Define p, d, and q to take any value between 0 and 2\n",
    "    p = d = q = range(0, 2)\n",
    "    # Generate all possible combinations of p, d, and q\n",
    "    pdq = list(itertools.product(p, d, q))\n",
    "    # Generate all possible combinations of seasonal parameters\n",
    "    seasonal_pdq = [(x[0], x[1], x[2], 12) for x in list(itertools.product(p, d, q))]\n",
    "    \n",
    "    # define config lists\n",
    "    t_params = ['n','c','t','ct']\n",
    "    # create config instances\n",
    "    for param in pdq:\n",
    "        for param_seasonal in seasonal_pdq:\n",
    "            for t in t_params:\n",
    "                cfg = [param, param_seasonal, t]\n",
    "                models.append(cfg)\n",
    "    return models"
   ]
  },
  {
   "cell_type": "code",
   "outputs": [],
   "source": [
    "# one-step sarima forecast\n",
    "def sarima_forecast(data, config, date):\n",
    "    order, sorder, trend = config\n",
    "    # define model\n",
    "    model = sm.tsa.statespace.SARIMAX(data, order=order, seasonal_order=sorder, trend=trend, enforce_stationarity=False, enforce_invertibility=False)\n",
    "    # fit model\n",
    "    model_fit = model.fit(disp=False)\n",
    "    # predict next month\n",
    "    predictions = model_fit.get_prediction(start=pd.to_datetime(date), dynamic=False)\n",
    "    return predictions.predicted_mean"
   ],
   "metadata": {
    "collapsed": false,
    "ExecuteTime": {
     "end_time": "2024-04-11T23:16:01.520421Z",
     "start_time": "2024-04-11T23:16:01.516420Z"
    }
   },
   "id": "25ed04d6514abf91",
   "execution_count": 4
  },
  {
   "cell_type": "code",
   "outputs": [],
   "source": [
    "# root mean squared error or rmse\n",
    "def measure_rmse(actual, predicted):\n",
    "    predicted = pd.DataFrame(predicted, columns=['predicted_mean'])\n",
    "    predicted.rename(columns={'predicted_mean':'Amount'}, inplace=True)\n",
    "    mse = (np.square(predicted['Amount'] - actual['Amount'])).mean()\n",
    "    return np.sqrt(mse)"
   ],
   "metadata": {
    "collapsed": false,
    "ExecuteTime": {
     "end_time": "2024-04-11T23:16:02.179540Z",
     "start_time": "2024-04-11T23:16:02.176041Z"
    }
   },
   "id": "54fe2876db37ae74",
   "execution_count": 5
  },
  {
   "cell_type": "code",
   "outputs": [],
   "source": [
    "# walk-forward validation for univariate data\n",
    "def walk_forward_validation(data, cfg):\n",
    "    predictions = sarima_forecast(data, cfg, date='2023-12-01')\n",
    "    # estimate prediction error\n",
    "    error = measure_rmse(data['2023-12-01':]['Amount'], predictions)\n",
    "    return error"
   ],
   "metadata": {
    "collapsed": false,
    "ExecuteTime": {
     "end_time": "2024-04-11T23:16:02.551284Z",
     "start_time": "2024-04-11T23:16:02.548283Z"
    }
   },
   "id": "1db494283efa0fb1",
   "execution_count": 6
  },
  {
   "cell_type": "code",
   "outputs": [],
   "source": [
    "# score a model, return None on failure\n",
    "def score_model(data, cfg, debug=False):\n",
    "    result = None\n",
    "    # convert config to a key\n",
    "    key = str(cfg)\n",
    "    # show all warnings and fail on exception if debugging\n",
    "    if debug:\n",
    "        result = walk_forward_validation(data, cfg)\n",
    "    else:\n",
    "        # one failure during model validation suggests an unstable config\n",
    "        try:\n",
    "            # never show warnings when grid searching, too noisy\n",
    "            with catch_warnings():\n",
    "                filterwarnings(\"ignore\")\n",
    "                result = walk_forward_validation(data, cfg)\n",
    "        except:\n",
    "            error = None\n",
    "    # check for an interesting result\n",
    "    if result is not None:\n",
    "        print(' > Model[%s] %.3f' % (key, result))\n",
    "    return (key, result)"
   ],
   "metadata": {
    "collapsed": false,
    "ExecuteTime": {
     "end_time": "2024-04-11T23:16:02.749027Z",
     "start_time": "2024-04-11T23:16:02.745027Z"
    }
   },
   "id": "74cf5fce09bb755c",
   "execution_count": 7
  },
  {
   "cell_type": "code",
   "outputs": [],
   "source": [
    "# grid search configs\n",
    "def grid_search(data, cfg_list, n_test, parallel=True):\n",
    "    scores = None\n",
    "    if parallel:\n",
    "        # execute configs in parallel\n",
    "        executor = Parallel(n_jobs=cpu_count(), backend='multiprocessing')\n",
    "        tasks = (delayed(score_model)(data, n_test, cfg) for cfg in cfg_list)\n",
    "        scores = executor(tasks)\n",
    "    else:\n",
    "        scores = [score_model(data, n_test, cfg) for cfg in cfg_list]\n",
    "    # remove empty results\n",
    "    scores = [r for r in scores if r[1] != None]\n",
    "    # sort configs by error, asc\n",
    "    scores.sort(key=lambda tup: tup[1])\n",
    "    return scores"
   ],
   "metadata": {
    "collapsed": false,
    "ExecuteTime": {
     "end_time": "2024-04-11T23:16:03.391404Z",
     "start_time": "2024-04-11T23:16:03.387403Z"
    }
   },
   "id": "17ced56673ed1b8e",
   "execution_count": 8
  },
  {
   "cell_type": "code",
   "outputs": [],
   "source": [],
   "metadata": {
    "collapsed": false
   },
   "id": "e1580697bcd6ca78"
  }
 ],
 "metadata": {
  "kernelspec": {
   "display_name": "Python 3",
   "language": "python",
   "name": "python3"
  },
  "language_info": {
   "codemirror_mode": {
    "name": "ipython",
    "version": 2
   },
   "file_extension": ".py",
   "mimetype": "text/x-python",
   "name": "python",
   "nbconvert_exporter": "python",
   "pygments_lexer": "ipython2",
   "version": "2.7.6"
  }
 },
 "nbformat": 4,
 "nbformat_minor": 5
}
