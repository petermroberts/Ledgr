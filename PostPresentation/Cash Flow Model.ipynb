{
 "cells": [
  {
   "metadata": {},
   "cell_type": "markdown",
   "source": "# Cash Flow Forecasting Model",
   "id": "8ba7b3b21d915183"
  },
  {
   "metadata": {},
   "cell_type": "markdown",
   "source": "## Data Preparation",
   "id": "b3cb5177995802c9"
  },
  {
   "metadata": {
    "ExecuteTime": {
     "end_time": "2024-04-11T01:11:47.496004Z",
     "start_time": "2024-04-11T01:11:47.485938Z"
    }
   },
   "cell_type": "code",
   "source": [
    "# Import Packages\n",
    "import warnings\n",
    "import itertools\n",
    "import numpy as np\n",
    "import matplotlib.pyplot as plt\n",
    "warnings.filterwarnings(\"ignore\")\n",
    "plt.style.use('fivethirtyeight')\n",
    "import pandas as pd\n",
    "import statsmodels.api as sm\n",
    "import matplotlib\n",
    "import seaborn as sns\n",
    "\n",
    "matplotlib.rcParams['axes.labelsize'] = 14\n",
    "matplotlib.rcParams['xtick.labelsize'] = 12\n",
    "matplotlib.rcParams['ytick.labelsize'] = 12\n",
    "matplotlib.rcParams['text.color'] = 'k'"
   ],
   "id": "1bda93f1509d9cea",
   "outputs": [],
   "execution_count": 20
  },
  {
   "metadata": {
    "ExecuteTime": {
     "end_time": "2024-04-11T01:11:47.829509Z",
     "start_time": "2024-04-11T01:11:47.819634Z"
    }
   },
   "cell_type": "code",
   "source": "transactions = pd.read_csv('./Data/InitTraining.csv')",
   "id": "c4fb86a0f89fb288",
   "outputs": [],
   "execution_count": 21
  },
  {
   "metadata": {
    "ExecuteTime": {
     "end_time": "2024-04-11T01:11:48.148713Z",
     "start_time": "2024-04-11T01:11:48.133767Z"
    }
   },
   "cell_type": "code",
   "source": [
    "transactions.replace({'Category' : {'Personal' : 'Personal Care'}}, inplace = True)\n",
    "transactions.replace(',', '',regex=True, inplace=True)\n",
    "transactions = transactions.astype({'Amount': float, 'Balance': float})\n",
    "transactions = transactions.drop(columns=['Balance', 'Account'])\n",
    "transactions['Date'] = pd.to_datetime(transactions['Date'])\n",
    "transactions.set_index('Date', inplace=True)"
   ],
   "id": "d5ae900f6cf98c4d",
   "outputs": [],
   "execution_count": 22
  },
  {
   "metadata": {
    "ExecuteTime": {
     "end_time": "2024-04-11T01:11:48.587944Z",
     "start_time": "2024-04-11T01:11:48.570142Z"
    }
   },
   "cell_type": "code",
   "source": [
    "food = transactions[transactions['Category'] == 'Food & Drinks']\n",
    "housing = transactions[transactions['Category'] == 'Housing']\n",
    "utilities = transactions[transactions['Category'] == 'Utilities']\n",
    "personal = transactions[transactions['Category'] == 'Personal Care']\n",
    "entertainment = transactions[transactions['Category'] == 'Entertainment']\n",
    "income = transactions[transactions['Category'] == 'Income']\n",
    "transportation = transactions[transactions['Category'] == 'Transportation']\n",
    "debt = transactions[transactions['Category'] == 'Debt']\n",
    "lifestyle = transactions[transactions['Category'] == 'Lifestyle']\n",
    "bank = transactions[transactions['Category'] == 'Bank']\n",
    "investment = transactions[transactions['Category'] == 'Investment']\n",
    "savings = transactions[transactions['Category'] == 'Savings']"
   ],
   "id": "7f0f7e830ee1edb",
   "outputs": [],
   "execution_count": 23
  },
  {
   "metadata": {
    "ExecuteTime": {
     "end_time": "2024-04-11T01:11:49.102897Z",
     "start_time": "2024-04-11T01:11:49.096325Z"
    }
   },
   "cell_type": "code",
   "source": [
    "categories = [food, housing, utilities, \n",
    "              personal, entertainment, income, \n",
    "              transportation, debt, lifestyle, \n",
    "              bank, investment, savings]"
   ],
   "id": "bbf1934230b3841e",
   "outputs": [],
   "execution_count": 24
  },
  {
   "metadata": {},
   "cell_type": "markdown",
   "source": "## Prepare Dataframes for Time Series Analysis",
   "id": "75e5a35682b1d8ea"
  },
  {
   "metadata": {
    "ExecuteTime": {
     "end_time": "2024-04-11T01:17:03.386716Z",
     "start_time": "2024-04-11T01:17:03.381083Z"
    }
   },
   "cell_type": "code",
   "source": [
    "def prepare(df):\n",
    "    cols = ['Category', 'Sub-category']\n",
    "    df.drop(cols, axis=1, inplace=True)\n",
    "    df.sort_values('Date', inplace=True)\n",
    "    df = df.astype({'Amount': float})\n",
    "    df = df.groupby('Date')['Amount'].sum().reset_index()\n",
    "    df['Date'] = pd.to_datetime(df['Date'])\n",
    "    df.set_index('Date', inplace=True)\n",
    "    return df"
   ],
   "id": "20fe094fb540b751",
   "outputs": [],
   "execution_count": 39
  },
  {
   "metadata": {
    "ExecuteTime": {
     "end_time": "2024-04-11T01:11:55.478537Z",
     "start_time": "2024-04-11T01:11:55.439853Z"
    }
   },
   "cell_type": "code",
   "source": [
    "prepped_categories = []\n",
    "for category in categories:\n",
    "    prepped_categories.append(prepare(category))"
   ],
   "id": "18d0aaa445782ccf",
   "outputs": [],
   "execution_count": 26
  },
  {
   "metadata": {},
   "cell_type": "markdown",
   "source": "## Visualize the Time Series Data",
   "id": "2b5292851952f7fd"
  },
  {
   "metadata": {
    "ExecuteTime": {
     "end_time": "2024-04-11T01:14:18.437529Z",
     "start_time": "2024-04-11T01:14:18.031644Z"
    }
   },
   "cell_type": "code",
   "source": "sns.distplot(transactions, x=transactions['Amount'], kde=True, rug=False)",
   "id": "eabb6458991ad1a6",
   "outputs": [
    {
     "data": {
      "text/plain": [
       "<Axes: ylabel='Density'>"
      ]
     },
     "execution_count": 35,
     "metadata": {},
     "output_type": "execute_result"
    },
    {
     "data": {
      "text/plain": [
       "<Figure size 640x480 with 1 Axes>"
      ],
      "image/png": "[encoded data removed]"
     },
     "metadata": {},
     "output_type": "display_data"
    }
   ],
   "execution_count": 35
  },
  {
   "metadata": {},
   "cell_type": "code",
   "source": "",
   "id": "c5a233238ea80024",
   "outputs": [],
   "execution_count": null
  },
  {
   "metadata": {},
   "cell_type": "code",
   "outputs": [],
   "execution_count": null,
   "source": "",
   "id": "a8b31c4b62835e09"
  }
 ],
 "metadata": {
  "kernelspec": {
   "display_name": "Python 3",
   "language": "python",
   "name": "python3"
  },
  "language_info": {
   "codemirror_mode": {
    "name": "ipython",
    "version": 2
   },
   "file_extension": ".py",
   "mimetype": "text/x-python",
   "name": "python",
   "nbconvert_exporter": "python",
   "pygments_lexer": "ipython2",
   "version": "2.7.6"
  }
 },
 "nbformat": 4,
 "nbformat_minor": 5
}
